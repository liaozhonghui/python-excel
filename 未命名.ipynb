{
 "cells": [
  {
   "cell_type": "code",
   "execution_count": 1,
   "id": "8a5b16b4",
   "metadata": {},
   "outputs": [],
   "source": [
    "import numpy as np"
   ]
  },
  {
   "cell_type": "code",
   "execution_count": 2,
   "id": "322fe901",
   "metadata": {},
   "outputs": [],
   "source": [
    "import pandas as pd"
   ]
  },
  {
   "cell_type": "code",
   "execution_count": 3,
   "id": "70957bdc",
   "metadata": {},
   "outputs": [],
   "source": [
    "magic"
   ]
  },
  {
   "cell_type": "code",
   "execution_count": 4,
   "id": "95f90ef6",
   "metadata": {},
   "outputs": [
    {
     "name": "stdout",
     "output_type": "stream",
     "text": [
      "379 ns ± 17.9 ns per loop (mean ± std. dev. of 7 runs, 1000000 loops each)\n"
     ]
    }
   ],
   "source": [
    "%timeit 2**128"
   ]
  },
  {
   "cell_type": "code",
   "execution_count": 5,
   "id": "dc2ebd47",
   "metadata": {},
   "outputs": [
    {
     "data": {
      "text/plain": [
       "'/Users/xinliao/Projects/gitclone/python-excel'"
      ]
     },
     "execution_count": 5,
     "metadata": {},
     "output_type": "execute_result"
    }
   ],
   "source": [
    "%pwd"
   ]
  },
  {
   "cell_type": "code",
   "execution_count": 6,
   "id": "837176b2",
   "metadata": {},
   "outputs": [
    {
     "name": "stdout",
     "output_type": "stream",
     "text": [
      "Using matplotlib backend: MacOSX\n",
      "Populating the interactive namespace from numpy and matplotlib\n"
     ]
    }
   ],
   "source": [
    "%pylab"
   ]
  },
  {
   "cell_type": "code",
   "execution_count": 7,
   "id": "c12068b2",
   "metadata": {},
   "outputs": [
    {
     "data": {
      "application/json": {
       "cell": {
        "!": "OSMagics",
        "HTML": "Other",
        "SVG": "Other",
        "bash": "Other",
        "capture": "ExecutionMagics",
        "debug": "ExecutionMagics",
        "file": "Other",
        "html": "DisplayMagics",
        "javascript": "DisplayMagics",
        "js": "DisplayMagics",
        "latex": "DisplayMagics",
        "markdown": "DisplayMagics",
        "perl": "Other",
        "prun": "ExecutionMagics",
        "pypy": "Other",
        "python": "Other",
        "python2": "Other",
        "python3": "Other",
        "ruby": "Other",
        "script": "ScriptMagics",
        "sh": "Other",
        "svg": "DisplayMagics",
        "sx": "OSMagics",
        "system": "OSMagics",
        "time": "ExecutionMagics",
        "timeit": "ExecutionMagics",
        "writefile": "OSMagics"
       },
       "line": {
        "alias": "OSMagics",
        "alias_magic": "BasicMagics",
        "autoawait": "AsyncMagics",
        "autocall": "AutoMagics",
        "automagic": "AutoMagics",
        "autosave": "KernelMagics",
        "bookmark": "OSMagics",
        "cat": "Other",
        "cd": "OSMagics",
        "clear": "KernelMagics",
        "colors": "BasicMagics",
        "conda": "PackagingMagics",
        "config": "ConfigMagics",
        "connect_info": "KernelMagics",
        "cp": "Other",
        "debug": "ExecutionMagics",
        "dhist": "OSMagics",
        "dirs": "OSMagics",
        "doctest_mode": "BasicMagics",
        "ed": "Other",
        "edit": "KernelMagics",
        "env": "OSMagics",
        "gui": "BasicMagics",
        "hist": "Other",
        "history": "HistoryMagics",
        "killbgscripts": "ScriptMagics",
        "ldir": "Other",
        "less": "KernelMagics",
        "lf": "Other",
        "lk": "Other",
        "ll": "Other",
        "load": "CodeMagics",
        "load_ext": "ExtensionMagics",
        "loadpy": "CodeMagics",
        "logoff": "LoggingMagics",
        "logon": "LoggingMagics",
        "logstart": "LoggingMagics",
        "logstate": "LoggingMagics",
        "logstop": "LoggingMagics",
        "ls": "Other",
        "lsmagic": "BasicMagics",
        "lx": "Other",
        "macro": "ExecutionMagics",
        "magic": "BasicMagics",
        "man": "KernelMagics",
        "matplotlib": "PylabMagics",
        "mkdir": "Other",
        "more": "KernelMagics",
        "mv": "Other",
        "notebook": "BasicMagics",
        "page": "BasicMagics",
        "pastebin": "CodeMagics",
        "pdb": "ExecutionMagics",
        "pdef": "NamespaceMagics",
        "pdoc": "NamespaceMagics",
        "pfile": "NamespaceMagics",
        "pinfo": "NamespaceMagics",
        "pinfo2": "NamespaceMagics",
        "pip": "PackagingMagics",
        "popd": "OSMagics",
        "pprint": "BasicMagics",
        "precision": "BasicMagics",
        "prun": "ExecutionMagics",
        "psearch": "NamespaceMagics",
        "psource": "NamespaceMagics",
        "pushd": "OSMagics",
        "pwd": "OSMagics",
        "pycat": "OSMagics",
        "pylab": "PylabMagics",
        "qtconsole": "KernelMagics",
        "quickref": "BasicMagics",
        "recall": "HistoryMagics",
        "rehashx": "OSMagics",
        "reload_ext": "ExtensionMagics",
        "rep": "Other",
        "rerun": "HistoryMagics",
        "reset": "NamespaceMagics",
        "reset_selective": "NamespaceMagics",
        "rm": "Other",
        "rmdir": "Other",
        "run": "ExecutionMagics",
        "save": "CodeMagics",
        "sc": "OSMagics",
        "set_env": "OSMagics",
        "store": "StoreMagics",
        "sx": "OSMagics",
        "system": "OSMagics",
        "tb": "ExecutionMagics",
        "time": "ExecutionMagics",
        "timeit": "ExecutionMagics",
        "unalias": "OSMagics",
        "unload_ext": "ExtensionMagics",
        "who": "NamespaceMagics",
        "who_ls": "NamespaceMagics",
        "whos": "NamespaceMagics",
        "xdel": "NamespaceMagics",
        "xmode": "BasicMagics"
       }
      },
      "text/plain": [
       "Available line magics:\n",
       "%alias  %alias_magic  %autoawait  %autocall  %automagic  %autosave  %bookmark  %cat  %cd  %clear  %colors  %conda  %config  %connect_info  %cp  %debug  %dhist  %dirs  %doctest_mode  %ed  %edit  %env  %gui  %hist  %history  %killbgscripts  %ldir  %less  %lf  %lk  %ll  %load  %load_ext  %loadpy  %logoff  %logon  %logstart  %logstate  %logstop  %ls  %lsmagic  %lx  %macro  %magic  %man  %matplotlib  %mkdir  %more  %mv  %notebook  %page  %pastebin  %pdb  %pdef  %pdoc  %pfile  %pinfo  %pinfo2  %pip  %popd  %pprint  %precision  %prun  %psearch  %psource  %pushd  %pwd  %pycat  %pylab  %qtconsole  %quickref  %recall  %rehashx  %reload_ext  %rep  %rerun  %reset  %reset_selective  %rm  %rmdir  %run  %save  %sc  %set_env  %store  %sx  %system  %tb  %time  %timeit  %unalias  %unload_ext  %who  %who_ls  %whos  %xdel  %xmode\n",
       "\n",
       "Available cell magics:\n",
       "%%!  %%HTML  %%SVG  %%bash  %%capture  %%debug  %%file  %%html  %%javascript  %%js  %%latex  %%markdown  %%perl  %%prun  %%pypy  %%python  %%python2  %%python3  %%ruby  %%script  %%sh  %%svg  %%sx  %%system  %%time  %%timeit  %%writefile\n",
       "\n",
       "Automagic is ON, % prefix IS NOT needed for line magics."
      ]
     },
     "execution_count": 7,
     "metadata": {},
     "output_type": "execute_result"
    }
   ],
   "source": [
    "lsmagic"
   ]
  },
  {
   "cell_type": "code",
   "execution_count": 8,
   "id": "db5804ac",
   "metadata": {},
   "outputs": [],
   "source": [
    "quickref"
   ]
  },
  {
   "cell_type": "code",
   "execution_count": 9,
   "id": "56e42b3b",
   "metadata": {},
   "outputs": [],
   "source": [
    "int_ones = np.ones((2,2), dtype=np.int8())"
   ]
  },
  {
   "cell_type": "code",
   "execution_count": 10,
   "id": "4d2ef4d3",
   "metadata": {},
   "outputs": [
    {
     "data": {
      "text/plain": [
       "array([[1, 1],\n",
       "       [1, 1]], dtype=int8)"
      ]
     },
     "execution_count": 10,
     "metadata": {},
     "output_type": "execute_result"
    }
   ],
   "source": [
    "int_ones"
   ]
  },
  {
   "cell_type": "code",
   "execution_count": 11,
   "id": "eecca7c8",
   "metadata": {},
   "outputs": [
    {
     "data": {
      "text/plain": [
       "array([[1, 1],\n",
       "       [1, 1]], dtype=uint8)"
      ]
     },
     "execution_count": 11,
     "metadata": {},
     "output_type": "execute_result"
    }
   ],
   "source": [
    "uint_ones = np.ones((2,2), dtype=np.uint8)\n",
    "uint_ones"
   ]
  },
  {
   "cell_type": "code",
   "execution_count": 12,
   "id": "63109a43",
   "metadata": {},
   "outputs": [],
   "source": [
    "string_arr = np.array(['Sam', 'Bill', 'Gary'])"
   ]
  },
  {
   "cell_type": "code",
   "execution_count": 13,
   "id": "8058f29d",
   "metadata": {},
   "outputs": [
    {
     "data": {
      "text/plain": [
       "array(['Sam', 'Bill', 'Gary'], dtype='<U4')"
      ]
     },
     "execution_count": 13,
     "metadata": {},
     "output_type": "execute_result"
    }
   ],
   "source": [
    "string_arr"
   ]
  },
  {
   "cell_type": "code",
   "execution_count": 14,
   "id": "f249e524",
   "metadata": {},
   "outputs": [
    {
     "data": {
      "text/plain": [
       "array(['Sam', 'Bill', 'Gary'], dtype='<U4')"
      ]
     },
     "execution_count": 14,
     "metadata": {},
     "output_type": "execute_result"
    }
   ],
   "source": [
    "string_arr"
   ]
  },
  {
   "cell_type": "code",
   "execution_count": 15,
   "id": "0f12f1bb",
   "metadata": {},
   "outputs": [],
   "source": [
    "string_arr[1] = 'Waldo'"
   ]
  },
  {
   "cell_type": "code",
   "execution_count": 16,
   "id": "54ec076f",
   "metadata": {},
   "outputs": [
    {
     "data": {
      "text/plain": [
       "array(['Sam', 'Wald', 'Gary'], dtype='<U4')"
      ]
     },
     "execution_count": 16,
     "metadata": {},
     "output_type": "execute_result"
    }
   ],
   "source": [
    "string_arr"
   ]
  },
  {
   "cell_type": "code",
   "execution_count": 17,
   "id": "abed8bec",
   "metadata": {},
   "outputs": [
    {
     "ename": "AttributeError",
     "evalue": "'numpy.ndarray' object has no attribute 'isnull'",
     "output_type": "error",
     "traceback": [
      "\u001b[0;31m---------------------------------------------------------------------------\u001b[0m",
      "\u001b[0;31mAttributeError\u001b[0m                            Traceback (most recent call last)",
      "\u001b[0;32m/var/folders/nf/wztbvlsd6zdbbhzd4ydxz3580000gn/T/ipykernel_26280/61482064.py\u001b[0m in \u001b[0;36m<module>\u001b[0;34m\u001b[0m\n\u001b[0;32m----> 1\u001b[0;31m \u001b[0mstring_arr\u001b[0m\u001b[0;34m.\u001b[0m\u001b[0misnull\u001b[0m\u001b[0;34m(\u001b[0m\u001b[0;34m)\u001b[0m\u001b[0;34m\u001b[0m\u001b[0;34m\u001b[0m\u001b[0m\n\u001b[0m",
      "\u001b[0;31mAttributeError\u001b[0m: 'numpy.ndarray' object has no attribute 'isnull'"
     ]
    }
   ],
   "source": [
    "string_arr.isnull()"
   ]
  },
  {
   "cell_type": "code",
   "execution_count": 18,
   "id": "afc6fc08",
   "metadata": {},
   "outputs": [
    {
     "ename": "NameError",
     "evalue": "name 'string_str' is not defined",
     "output_type": "error",
     "traceback": [
      "\u001b[0;31m---------------------------------------------------------------------------\u001b[0m",
      "\u001b[0;31mNameError\u001b[0m                                 Traceback (most recent call last)",
      "\u001b[0;32m/var/folders/nf/wztbvlsd6zdbbhzd4ydxz3580000gn/T/ipykernel_26280/1394882781.py\u001b[0m in \u001b[0;36m<module>\u001b[0;34m\u001b[0m\n\u001b[0;32m----> 1\u001b[0;31m np.isnan(string_str\n\u001b[0m\u001b[1;32m      2\u001b[0m     )\n",
      "\u001b[0;31mNameError\u001b[0m: name 'string_str' is not defined"
     ]
    }
   ],
   "source": [
    "np.isnan(string_str\n",
    "    )"
   ]
  },
  {
   "cell_type": "code",
   "execution_count": 19,
   "id": "66e0ba21",
   "metadata": {},
   "outputs": [
    {
     "ename": "NameError",
     "evalue": "name 'string_str' is not defined",
     "output_type": "error",
     "traceback": [
      "\u001b[0;31m---------------------------------------------------------------------------\u001b[0m",
      "\u001b[0;31mNameError\u001b[0m                                 Traceback (most recent call last)",
      "\u001b[0;32m/var/folders/nf/wztbvlsd6zdbbhzd4ydxz3580000gn/T/ipykernel_26280/1444297214.py\u001b[0m in \u001b[0;36m<module>\u001b[0;34m\u001b[0m\n\u001b[0;32m----> 1\u001b[0;31m \u001b[0mstring_str\u001b[0m\u001b[0;34m\u001b[0m\u001b[0;34m\u001b[0m\u001b[0m\n\u001b[0m",
      "\u001b[0;31mNameError\u001b[0m: name 'string_str' is not defined"
     ]
    }
   ],
   "source": [
    "string_str"
   ]
  },
  {
   "cell_type": "code",
   "execution_count": 20,
   "id": "18bbb0ba",
   "metadata": {},
   "outputs": [
    {
     "data": {
      "text/plain": [
       "array(['Sam', 'Wald', 'Gary'], dtype='<U4')"
      ]
     },
     "execution_count": 20,
     "metadata": {},
     "output_type": "execute_result"
    }
   ],
   "source": [
    "string_arr"
   ]
  },
  {
   "cell_type": "code",
   "execution_count": 21,
   "id": "e35b5795",
   "metadata": {},
   "outputs": [
    {
     "ename": "TypeError",
     "evalue": "ufunc 'isnan' not supported for the input types, and the inputs could not be safely coerced to any supported types according to the casting rule ''safe''",
     "output_type": "error",
     "traceback": [
      "\u001b[0;31m---------------------------------------------------------------------------\u001b[0m",
      "\u001b[0;31mTypeError\u001b[0m                                 Traceback (most recent call last)",
      "\u001b[0;32m/var/folders/nf/wztbvlsd6zdbbhzd4ydxz3580000gn/T/ipykernel_26280/6862065.py\u001b[0m in \u001b[0;36m<module>\u001b[0;34m\u001b[0m\n\u001b[0;32m----> 1\u001b[0;31m \u001b[0mnp\u001b[0m\u001b[0;34m.\u001b[0m\u001b[0misnan\u001b[0m\u001b[0;34m(\u001b[0m\u001b[0mstring_arr\u001b[0m\u001b[0;34m)\u001b[0m\u001b[0;34m\u001b[0m\u001b[0;34m\u001b[0m\u001b[0m\n\u001b[0m",
      "\u001b[0;31mTypeError\u001b[0m: ufunc 'isnan' not supported for the input types, and the inputs could not be safely coerced to any supported types according to the casting rule ''safe''"
     ]
    }
   ],
   "source": [
    "np.isnan(string_arr)"
   ]
  },
  {
   "cell_type": "code",
   "execution_count": 22,
   "id": "44a677f1",
   "metadata": {},
   "outputs": [
    {
     "ename": "SyntaxError",
     "evalue": "cannot assign to function call (1462122697.py, line 1)",
     "output_type": "error",
     "traceback": [
      "\u001b[0;36m  File \u001b[0;32m\"/var/folders/nf/wztbvlsd6zdbbhzd4ydxz3580000gn/T/ipykernel_26280/1462122697.py\"\u001b[0;36m, line \u001b[0;32m1\u001b[0m\n\u001b[0;31m    string_arr.isnan()=\u001b[0m\n\u001b[0m    ^\u001b[0m\n\u001b[0;31mSyntaxError\u001b[0m\u001b[0;31m:\u001b[0m cannot assign to function call\n"
     ]
    }
   ],
   "source": [
    "string_arr.isnan()="
   ]
  },
  {
   "cell_type": "code",
   "execution_count": 23,
   "id": "1b3c28e3",
   "metadata": {},
   "outputs": [
    {
     "ename": "AttributeError",
     "evalue": "'numpy.ndarray' object has no attribute 'isnan'",
     "output_type": "error",
     "traceback": [
      "\u001b[0;31m---------------------------------------------------------------------------\u001b[0m",
      "\u001b[0;31mAttributeError\u001b[0m                            Traceback (most recent call last)",
      "\u001b[0;32m/var/folders/nf/wztbvlsd6zdbbhzd4ydxz3580000gn/T/ipykernel_26280/4274883202.py\u001b[0m in \u001b[0;36m<module>\u001b[0;34m\u001b[0m\n\u001b[0;32m----> 1\u001b[0;31m \u001b[0mstring_arr\u001b[0m\u001b[0;34m.\u001b[0m\u001b[0misnan\u001b[0m\u001b[0;34m(\u001b[0m\u001b[0;34m)\u001b[0m\u001b[0;34m\u001b[0m\u001b[0;34m\u001b[0m\u001b[0m\n\u001b[0m",
      "\u001b[0;31mAttributeError\u001b[0m: 'numpy.ndarray' object has no attribute 'isnan'"
     ]
    }
   ],
   "source": [
    "string_arr.isnan()"
   ]
  },
  {
   "cell_type": "code",
   "execution_count": 24,
   "id": "06757e7f",
   "metadata": {},
   "outputs": [
    {
     "ename": "AttributeError",
     "evalue": "module 'numpy' has no attribute 'floats'",
     "output_type": "error",
     "traceback": [
      "\u001b[0;31m---------------------------------------------------------------------------\u001b[0m",
      "\u001b[0;31mAttributeError\u001b[0m                            Traceback (most recent call last)",
      "\u001b[0;32m/var/folders/nf/wztbvlsd6zdbbhzd4ydxz3580000gn/T/ipykernel_26280/855149514.py\u001b[0m in \u001b[0;36m<module>\u001b[0;34m\u001b[0m\n\u001b[0;32m----> 1\u001b[0;31m \u001b[0mvec1\u001b[0m \u001b[0;34m=\u001b[0m \u001b[0mnp\u001b[0m\u001b[0;34m.\u001b[0m\u001b[0marray\u001b[0m\u001b[0;34m(\u001b[0m\u001b[0;34m[\u001b[0m\u001b[0;36m1\u001b[0m\u001b[0;34m,\u001b[0m\u001b[0;36m1\u001b[0m\u001b[0;34m,\u001b[0m\u001b[0;36m0\u001b[0m\u001b[0;34m]\u001b[0m\u001b[0;34m,\u001b[0m \u001b[0mdtype\u001b[0m\u001b[0;34m=\u001b[0m\u001b[0mnp\u001b[0m\u001b[0;34m.\u001b[0m\u001b[0mfloats\u001b[0m\u001b[0;34m)\u001b[0m\u001b[0;34m\u001b[0m\u001b[0;34m\u001b[0m\u001b[0m\n\u001b[0m\u001b[1;32m      2\u001b[0m \u001b[0mvec2\u001b[0m \u001b[0;34m=\u001b[0m \u001b[0mvec1\u001b[0m \u001b[0;34m/\u001b[0m \u001b[0;36m0\u001b[0m\u001b[0;34m\u001b[0m\u001b[0;34m\u001b[0m\u001b[0m\n\u001b[1;32m      3\u001b[0m \u001b[0mvec2\u001b[0m\u001b[0;34m\u001b[0m\u001b[0;34m\u001b[0m\u001b[0m\n",
      "\u001b[0;32m~/opt/anaconda3/lib/python3.9/site-packages/numpy/__init__.py\u001b[0m in \u001b[0;36m__getattr__\u001b[0;34m(attr)\u001b[0m\n\u001b[1;32m    301\u001b[0m                 \u001b[0;32mreturn\u001b[0m \u001b[0mTester\u001b[0m\u001b[0;34m\u001b[0m\u001b[0;34m\u001b[0m\u001b[0m\n\u001b[1;32m    302\u001b[0m \u001b[0;34m\u001b[0m\u001b[0m\n\u001b[0;32m--> 303\u001b[0;31m             raise AttributeError(\"module {!r} has no attribute \"\n\u001b[0m\u001b[1;32m    304\u001b[0m                                  \"{!r}\".format(__name__, attr))\n\u001b[1;32m    305\u001b[0m \u001b[0;34m\u001b[0m\u001b[0m\n",
      "\u001b[0;31mAttributeError\u001b[0m: module 'numpy' has no attribute 'floats'"
     ]
    }
   ],
   "source": [
    "vec1 = np.array([1,1,0], dtype=np.floats)\n",
    "vec2 = vec1 / 0\n",
    "vec2"
   ]
  },
  {
   "cell_type": "code",
   "execution_count": 25,
   "id": "e7c1acae",
   "metadata": {},
   "outputs": [
    {
     "name": "stderr",
     "output_type": "stream",
     "text": [
      "/var/folders/nf/wztbvlsd6zdbbhzd4ydxz3580000gn/T/ipykernel_26280/559495930.py:2: RuntimeWarning: divide by zero encountered in true_divide\n",
      "  vec2 = vec1 / 0\n",
      "/var/folders/nf/wztbvlsd6zdbbhzd4ydxz3580000gn/T/ipykernel_26280/559495930.py:2: RuntimeWarning: invalid value encountered in true_divide\n",
      "  vec2 = vec1 / 0\n"
     ]
    },
    {
     "data": {
      "text/plain": [
       "array([inf, inf, nan], dtype=float16)"
      ]
     },
     "execution_count": 25,
     "metadata": {},
     "output_type": "execute_result"
    }
   ],
   "source": [
    "vec1 = np.array([1,1,0], dtype=np.float16)\n",
    "vec2 = vec1 / 0\n",
    "vec2"
   ]
  },
  {
   "cell_type": "code",
   "execution_count": 26,
   "id": "bf665edb",
   "metadata": {},
   "outputs": [
    {
     "data": {
      "text/plain": [
       "array([inf, inf, nan], dtype=float16)"
      ]
     },
     "execution_count": 26,
     "metadata": {},
     "output_type": "execute_result"
    }
   ],
   "source": [
    "vec2"
   ]
  },
  {
   "cell_type": "code",
   "execution_count": 27,
   "id": "854dd865",
   "metadata": {},
   "outputs": [
    {
     "data": {
      "text/plain": [
       "True"
      ]
     },
     "execution_count": 27,
     "metadata": {},
     "output_type": "execute_result"
    }
   ],
   "source": [
    "np.isnan(vec2[2])"
   ]
  },
  {
   "cell_type": "code",
   "execution_count": 28,
   "id": "17ea2470",
   "metadata": {},
   "outputs": [
    {
     "data": {
      "text/plain": [
       "True"
      ]
     },
     "execution_count": 28,
     "metadata": {},
     "output_type": "execute_result"
    }
   ],
   "source": [
    "np.isinf(vec2[1])"
   ]
  },
  {
   "cell_type": "code",
   "execution_count": 29,
   "id": "bbe1e039",
   "metadata": {},
   "outputs": [
    {
     "data": {
      "text/plain": [
       "inf"
      ]
     },
     "execution_count": 29,
     "metadata": {},
     "output_type": "execute_result"
    }
   ],
   "source": [
    "inf + 1"
   ]
  },
  {
   "cell_type": "code",
   "execution_count": 30,
   "id": "eccfffba",
   "metadata": {},
   "outputs": [
    {
     "data": {
      "text/plain": [
       "-inf"
      ]
     },
     "execution_count": 30,
     "metadata": {},
     "output_type": "execute_result"
    }
   ],
   "source": [
    "inf * -1"
   ]
  },
  {
   "cell_type": "code",
   "execution_count": 31,
   "id": "c0525a6b",
   "metadata": {},
   "outputs": [
    {
     "ename": "NameError",
     "evalue": "name 'nana' is not defined",
     "output_type": "error",
     "traceback": [
      "\u001b[0;31m---------------------------------------------------------------------------\u001b[0m",
      "\u001b[0;31mNameError\u001b[0m                                 Traceback (most recent call last)",
      "\u001b[0;32m/var/folders/nf/wztbvlsd6zdbbhzd4ydxz3580000gn/T/ipykernel_26280/2427289799.py\u001b[0m in \u001b[0;36m<module>\u001b[0;34m\u001b[0m\n\u001b[0;32m----> 1\u001b[0;31m \u001b[0mnana\u001b[0m \u001b[0;34m+\u001b[0m \u001b[0;36m1\u001b[0m\u001b[0;34m\u001b[0m\u001b[0;34m\u001b[0m\u001b[0m\n\u001b[0m",
      "\u001b[0;31mNameError\u001b[0m: name 'nana' is not defined"
     ]
    }
   ],
   "source": [
    "nana + 1"
   ]
  },
  {
   "cell_type": "code",
   "execution_count": 32,
   "id": "0868b144",
   "metadata": {},
   "outputs": [
    {
     "data": {
      "text/plain": [
       "nan"
      ]
     },
     "execution_count": 32,
     "metadata": {},
     "output_type": "execute_result"
    }
   ],
   "source": [
    "nan + 1"
   ]
  },
  {
   "cell_type": "code",
   "execution_count": 33,
   "id": "5be9239e",
   "metadata": {},
   "outputs": [
    {
     "data": {
      "text/plain": [
       "nan"
      ]
     },
     "execution_count": 33,
     "metadata": {},
     "output_type": "execute_result"
    }
   ],
   "source": [
    "inf - inf"
   ]
  },
  {
   "cell_type": "code",
   "execution_count": 34,
   "id": "f23fd955",
   "metadata": {},
   "outputs": [
    {
     "data": {
      "text/plain": [
       "array([nan,  1.,  1.,  1.,  1.])"
      ]
     },
     "execution_count": 34,
     "metadata": {},
     "output_type": "execute_result"
    }
   ],
   "source": [
    "vec4 = np.ones(5)\n",
    "vec4[0] = np.nan\n",
    "vec4"
   ]
  },
  {
   "cell_type": "code",
   "execution_count": 35,
   "id": "079f1792",
   "metadata": {},
   "outputs": [
    {
     "data": {
      "text/plain": [
       "nan"
      ]
     },
     "execution_count": 35,
     "metadata": {},
     "output_type": "execute_result"
    }
   ],
   "source": [
    "np.sum(vec4)"
   ]
  },
  {
   "cell_type": "code",
   "execution_count": 36,
   "id": "02469b80",
   "metadata": {},
   "outputs": [
    {
     "data": {
      "text/plain": [
       "4.0"
      ]
     },
     "execution_count": 36,
     "metadata": {},
     "output_type": "execute_result"
    }
   ],
   "source": [
    "np.nansum(vec4)"
   ]
  },
  {
   "cell_type": "code",
   "execution_count": 37,
   "id": "f573c684",
   "metadata": {},
   "outputs": [],
   "source": [
    "vec1 = np.ones((5))"
   ]
  },
  {
   "cell_type": "code",
   "execution_count": 38,
   "id": "819b013f",
   "metadata": {},
   "outputs": [
    {
     "data": {
      "text/plain": [
       "array([1., 1., 1., 1., 1.])"
      ]
     },
     "execution_count": 38,
     "metadata": {},
     "output_type": "execute_result"
    }
   ],
   "source": [
    "vec1"
   ]
  },
  {
   "cell_type": "code",
   "execution_count": 39,
   "id": "31fcd471",
   "metadata": {},
   "outputs": [],
   "source": [
    "vec1.dtype = np.int8"
   ]
  },
  {
   "cell_type": "code",
   "execution_count": 40,
   "id": "aabe1af5",
   "metadata": {},
   "outputs": [
    {
     "data": {
      "text/plain": [
       "array([  0,   0,   0,   0,   0,   0, -16,  63,   0,   0,   0,   0,   0,\n",
       "         0, -16,  63,   0,   0,   0,   0,   0,   0, -16,  63,   0,   0,\n",
       "         0,   0,   0,   0, -16,  63,   0,   0,   0,   0,   0,   0, -16,\n",
       "        63], dtype=int8)"
      ]
     },
     "execution_count": 40,
     "metadata": {},
     "output_type": "execute_result"
    }
   ],
   "source": [
    "vec1"
   ]
  },
  {
   "cell_type": "code",
   "execution_count": 41,
   "id": "408b8833",
   "metadata": {},
   "outputs": [],
   "source": [
    "vec1 = np.ones((5))"
   ]
  },
  {
   "cell_type": "code",
   "execution_count": 42,
   "id": "4b58e567",
   "metadata": {},
   "outputs": [],
   "source": [
    "vec1 = np.array(vec1, dtype = np.int8)"
   ]
  },
  {
   "cell_type": "code",
   "execution_count": 43,
   "id": "c5d0900a",
   "metadata": {},
   "outputs": [
    {
     "data": {
      "text/plain": [
       "array([1, 1, 1, 1, 1], dtype=int8)"
      ]
     },
     "execution_count": 43,
     "metadata": {},
     "output_type": "execute_result"
    }
   ],
   "source": [
    "vec1"
   ]
  },
  {
   "cell_type": "code",
   "execution_count": 44,
   "id": "37c1e55d",
   "metadata": {},
   "outputs": [],
   "source": [
    "vec1 = np.ones((5), dtype=np.int8)"
   ]
  },
  {
   "cell_type": "code",
   "execution_count": 45,
   "id": "5943abbe",
   "metadata": {},
   "outputs": [
    {
     "data": {
      "text/plain": [
       "array([1, 1, 1, 1, 1], dtype=int8)"
      ]
     },
     "execution_count": 45,
     "metadata": {},
     "output_type": "execute_result"
    }
   ],
   "source": [
    "vec1"
   ]
  },
  {
   "cell_type": "code",
   "execution_count": 46,
   "id": "309ca6b3",
   "metadata": {},
   "outputs": [],
   "source": [
    "arr1 = np.zeros((2,2,2), dtype=np.float64)"
   ]
  },
  {
   "cell_type": "code",
   "execution_count": 47,
   "id": "2a246b50",
   "metadata": {},
   "outputs": [
    {
     "ename": "NameError",
     "evalue": "name 'arr' is not defined",
     "output_type": "error",
     "traceback": [
      "\u001b[0;31m---------------------------------------------------------------------------\u001b[0m",
      "\u001b[0;31mNameError\u001b[0m                                 Traceback (most recent call last)",
      "\u001b[0;32m/var/folders/nf/wztbvlsd6zdbbhzd4ydxz3580000gn/T/ipykernel_26280/3418240484.py\u001b[0m in \u001b[0;36m<module>\u001b[0;34m\u001b[0m\n\u001b[0;32m----> 1\u001b[0;31m \u001b[0marr\u001b[0m\u001b[0;34m\u001b[0m\u001b[0;34m\u001b[0m\u001b[0m\n\u001b[0m",
      "\u001b[0;31mNameError\u001b[0m: name 'arr' is not defined"
     ]
    }
   ],
   "source": [
    "arr"
   ]
  },
  {
   "cell_type": "code",
   "execution_count": 48,
   "id": "edfefa68",
   "metadata": {},
   "outputs": [
    {
     "data": {
      "text/plain": [
       "array([[[0., 0.],\n",
       "        [0., 0.]],\n",
       "\n",
       "       [[0., 0.],\n",
       "        [0., 0.]]])"
      ]
     },
     "execution_count": 48,
     "metadata": {},
     "output_type": "execute_result"
    }
   ],
   "source": [
    "arr1"
   ]
  },
  {
   "cell_type": "code",
   "execution_count": 49,
   "id": "c56a9c7b",
   "metadata": {},
   "outputs": [],
   "source": [
    "mat1 = np.random.randn(3,3)"
   ]
  },
  {
   "cell_type": "code",
   "execution_count": 50,
   "id": "3189c16d",
   "metadata": {},
   "outputs": [
    {
     "data": {
      "text/plain": [
       "array([[ 0.05606175, -0.2470723 , -0.64654917],\n",
       "       [ 1.05293493, -0.2466404 , -1.41711847],\n",
       "       [-0.60212667, -0.70860731, -0.30965959]])"
      ]
     },
     "execution_count": 50,
     "metadata": {},
     "output_type": "execute_result"
    }
   ],
   "source": [
    "mat1"
   ]
  },
  {
   "cell_type": "code",
   "execution_count": 51,
   "id": "700b6d94",
   "metadata": {},
   "outputs": [],
   "source": [
    "mat2 = np.array([['bob', 'jane'], ['bill', 'janet']])"
   ]
  },
  {
   "cell_type": "code",
   "execution_count": 52,
   "id": "edaa6a78",
   "metadata": {},
   "outputs": [
    {
     "data": {
      "text/plain": [
       "array([['bob', 'jane'],\n",
       "       ['bill', 'janet']], dtype='<U5')"
      ]
     },
     "execution_count": 52,
     "metadata": {},
     "output_type": "execute_result"
    }
   ],
   "source": [
    "mat2"
   ]
  },
  {
   "cell_type": "code",
   "execution_count": 53,
   "id": "9692aed5",
   "metadata": {},
   "outputs": [],
   "source": [
    "arr2 = np.array([[(1,3,5), (2,4,6)], [(1, np.nan, 1), (2,2,2)]])"
   ]
  },
  {
   "cell_type": "code",
   "execution_count": 54,
   "id": "40eb1da1",
   "metadata": {},
   "outputs": [
    {
     "data": {
      "text/plain": [
       "array([[[ 1.,  3.,  5.],\n",
       "        [ 2.,  4.,  6.]],\n",
       "\n",
       "       [[ 1., nan,  1.],\n",
       "        [ 2.,  2.,  2.]]])"
      ]
     },
     "execution_count": 54,
     "metadata": {},
     "output_type": "execute_result"
    }
   ],
   "source": [
    "arr2"
   ]
  },
  {
   "cell_type": "code",
   "execution_count": 55,
   "id": "02d75847",
   "metadata": {},
   "outputs": [
    {
     "data": {
      "text/plain": [
       "array([['bob', 'jane'],\n",
       "       ['bill', 'janet']], dtype='<U5')"
      ]
     },
     "execution_count": 55,
     "metadata": {},
     "output_type": "execute_result"
    }
   ],
   "source": [
    "mat2"
   ]
  },
  {
   "cell_type": "code",
   "execution_count": 56,
   "id": "76088709",
   "metadata": {},
   "outputs": [],
   "source": [
    "mat2_cpy = mat2.copy()"
   ]
  },
  {
   "cell_type": "code",
   "execution_count": 57,
   "id": "86593ab6",
   "metadata": {},
   "outputs": [
    {
     "data": {
      "text/plain": [
       "array([['bob', 'jane'],\n",
       "       ['bill', 'janet']], dtype='<U5')"
      ]
     },
     "execution_count": 57,
     "metadata": {},
     "output_type": "execute_result"
    }
   ],
   "source": [
    "mat2_cpy"
   ]
  },
  {
   "cell_type": "code",
   "execution_count": 58,
   "id": "fd326920",
   "metadata": {},
   "outputs": [
    {
     "data": {
      "text/plain": [
       "array([[[0., 0.],\n",
       "        [0., 0.]],\n",
       "\n",
       "       [[0., 0.],\n",
       "        [0., 0.]]])"
      ]
     },
     "execution_count": 58,
     "metadata": {},
     "output_type": "execute_result"
    }
   ],
   "source": [
    "arr1"
   ]
  },
  {
   "cell_type": "code",
   "execution_count": 59,
   "id": "2a607a25",
   "metadata": {},
   "outputs": [],
   "source": [
    "np.save('arr1', arr1)"
   ]
  },
  {
   "cell_type": "code",
   "execution_count": 60,
   "id": "47518343",
   "metadata": {},
   "outputs": [],
   "source": [
    "arr1_new = np.load('arr1.npy')"
   ]
  },
  {
   "cell_type": "code",
   "execution_count": 61,
   "id": "7dcdfe26",
   "metadata": {},
   "outputs": [
    {
     "data": {
      "text/plain": [
       "array([[[0., 0.],\n",
       "        [0., 0.]],\n",
       "\n",
       "       [[0., 0.],\n",
       "        [0., 0.]]])"
      ]
     },
     "execution_count": 61,
     "metadata": {},
     "output_type": "execute_result"
    }
   ],
   "source": [
    "arr1_new"
   ]
  },
  {
   "cell_type": "code",
   "execution_count": 62,
   "id": "ff9b228b",
   "metadata": {},
   "outputs": [
    {
     "data": {
      "text/plain": [
       "array([[[0., 0.],\n",
       "        [0., 0.]],\n",
       "\n",
       "       [[0., 0.],\n",
       "        [0., 0.]]])"
      ]
     },
     "execution_count": 62,
     "metadata": {},
     "output_type": "execute_result"
    }
   ],
   "source": [
    "arr1_new"
   ]
  },
  {
   "cell_type": "code",
   "execution_count": 63,
   "id": "775c0ba3",
   "metadata": {},
   "outputs": [],
   "source": [
    "arr1 = np.array([[[\"Joe\", 'Bob', \"Sarah\"], \n",
    "                  ['Margaret', \"Rachel\", \"Jim\"], \n",
    "                  [\"Wayne\", \"Joey\", \"Liam\"]],\n",
    "                \n",
    "                [[\"Max\", \"Maxine\", \"Richard\"], \n",
    "                [\"Harold\", \"Curtis\", \"Simon\"],\n",
    "                [\"Bob\", \"Liam\", \"Simon\"]],\n",
    "                \n",
    "                [[\"Wayne\", \"Sarah\", \"Lucy\"],\n",
    "                [\"Lucy\", \"Kurtis\", \"Yu\"],\n",
    "                [\"Joey\", \"Lex\", \"Alex\"]]])"
   ]
  },
  {
   "cell_type": "code",
   "execution_count": 64,
   "id": "7b013973",
   "metadata": {},
   "outputs": [
    {
     "data": {
      "text/plain": [
       "array([[['Joe', 'Bob', 'Sarah'],\n",
       "        ['Margaret', 'Rachel', 'Jim'],\n",
       "        ['Wayne', 'Joey', 'Liam']],\n",
       "\n",
       "       [['Max', 'Maxine', 'Richard'],\n",
       "        ['Harold', 'Curtis', 'Simon'],\n",
       "        ['Bob', 'Liam', 'Simon']],\n",
       "\n",
       "       [['Wayne', 'Sarah', 'Lucy'],\n",
       "        ['Lucy', 'Kurtis', 'Yu'],\n",
       "        ['Joey', 'Lex', 'Alex']]], dtype='<U8')"
      ]
     },
     "execution_count": 64,
     "metadata": {},
     "output_type": "execute_result"
    }
   ],
   "source": [
    "arr1"
   ]
  },
  {
   "cell_type": "code",
   "execution_count": 65,
   "id": "fea87d63",
   "metadata": {},
   "outputs": [],
   "source": [
    "arr2 = arr1[:, : ,0].copy()"
   ]
  },
  {
   "cell_type": "code",
   "execution_count": 66,
   "id": "4ba27c1b",
   "metadata": {},
   "outputs": [
    {
     "data": {
      "text/plain": [
       "array([['Joe', 'Margaret', 'Wayne'],\n",
       "       ['Max', 'Harold', 'Bob'],\n",
       "       ['Wayne', 'Lucy', 'Joey']], dtype='<U8')"
      ]
     },
     "execution_count": 66,
     "metadata": {},
     "output_type": "execute_result"
    }
   ],
   "source": [
    "arr2"
   ]
  },
  {
   "cell_type": "code",
   "execution_count": 67,
   "id": "8b1fa5c8",
   "metadata": {},
   "outputs": [
    {
     "name": "stdout",
     "output_type": "stream",
     "text": [
      "['Max' 'Harold' 'Bob' 'Margaret' 'Lucy']\n"
     ]
    }
   ],
   "source": [
    "print(arr2[[1,1,1,0,2], [0,1,2,1,1]])"
   ]
  },
  {
   "cell_type": "code",
   "execution_count": 68,
   "id": "b5eedc2e",
   "metadata": {},
   "outputs": [
    {
     "data": {
      "text/plain": [
       "array([['Joe', 'Margaret', 'Wayne'],\n",
       "       ['Max', 'Harold', 'Bob'],\n",
       "       ['Wayne', 'Lucy', 'Joey']], dtype='<U8')"
      ]
     },
     "execution_count": 68,
     "metadata": {},
     "output_type": "execute_result"
    }
   ],
   "source": [
    "arr2"
   ]
  },
  {
   "cell_type": "code",
   "execution_count": 69,
   "id": "593b9ac6",
   "metadata": {},
   "outputs": [
    {
     "data": {
      "text/plain": [
       "array([['Joe', 'Margaret'],\n",
       "       ['Max', 'Harold']], dtype='<U8')"
      ]
     },
     "execution_count": 69,
     "metadata": {},
     "output_type": "execute_result"
    }
   ],
   "source": [
    "arr2[:2, :2]"
   ]
  },
  {
   "cell_type": "code",
   "execution_count": 70,
   "id": "3f428300",
   "metadata": {},
   "outputs": [
    {
     "name": "stdout",
     "output_type": "stream",
     "text": [
      "['Margaret' 'Harold' 'Lucy']\n"
     ]
    }
   ],
   "source": [
    "print(arr2[:, 1])"
   ]
  },
  {
   "cell_type": "code",
   "execution_count": 71,
   "id": "a8cab1b1",
   "metadata": {},
   "outputs": [
    {
     "name": "stdout",
     "output_type": "stream",
     "text": [
      "[['Margaret']\n",
      " ['Harold']\n",
      " ['Lucy']]\n"
     ]
    }
   ],
   "source": [
    "print(arr2[:, [1]])"
   ]
  },
  {
   "cell_type": "code",
   "execution_count": 72,
   "id": "a56ed916",
   "metadata": {},
   "outputs": [
    {
     "name": "stdout",
     "output_type": "stream",
     "text": [
      "[['Wayne' 'Lucy' 'Joey']\n",
      " ['Max' 'Harold' 'Bob']\n",
      " ['Joe' 'Margaret' 'Wayne']]\n"
     ]
    }
   ],
   "source": [
    "print(arr2[::-1, :])"
   ]
  },
  {
   "cell_type": "code",
   "execution_count": 73,
   "id": "3ec088c5",
   "metadata": {},
   "outputs": [
    {
     "data": {
      "text/plain": [
       "array([['Joe', 'Margaret', 'Wayne'],\n",
       "       ['Max', 'Harold', 'Bob'],\n",
       "       ['Wayne', 'Lucy', 'Joey']], dtype='<U8')"
      ]
     },
     "execution_count": 73,
     "metadata": {},
     "output_type": "execute_result"
    }
   ],
   "source": [
    "arr2"
   ]
  },
  {
   "cell_type": "code",
   "execution_count": 74,
   "id": "bd79f77d",
   "metadata": {},
   "outputs": [
    {
     "name": "stdout",
     "output_type": "stream",
     "text": [
      "[['Joe' 'Wayne']\n",
      " ['Max' 'Bob']\n",
      " ['Wayne' 'Joey']]\n"
     ]
    }
   ],
   "source": [
    "print(arr2[:, 0:3:2])"
   ]
  },
  {
   "cell_type": "code",
   "execution_count": 75,
   "id": "9a448b8c",
   "metadata": {},
   "outputs": [
    {
     "name": "stdout",
     "output_type": "stream",
     "text": [
      "[[['Joe' 'Bob']\n",
      "  ['Margaret' 'Rachel']]\n",
      "\n",
      " [['Max' 'Maxine']\n",
      "  ['Harold' 'Curtis']]]\n"
     ]
    }
   ],
   "source": [
    "print(arr1[0:2, 0:2, 0:2])"
   ]
  },
  {
   "cell_type": "code",
   "execution_count": 76,
   "id": "8f8aa63e",
   "metadata": {},
   "outputs": [
    {
     "data": {
      "text/plain": [
       "array([[['Joe', 'Bob', 'Sarah'],\n",
       "        ['Margaret', 'Rachel', 'Jim'],\n",
       "        ['Wayne', 'Joey', 'Liam']],\n",
       "\n",
       "       [['Max', 'Maxine', 'Richard'],\n",
       "        ['Harold', 'Curtis', 'Simon'],\n",
       "        ['Bob', 'Liam', 'Simon']],\n",
       "\n",
       "       [['Wayne', 'Sarah', 'Lucy'],\n",
       "        ['Lucy', 'Kurtis', 'Yu'],\n",
       "        ['Joey', 'Lex', 'Alex']]], dtype='<U8')"
      ]
     },
     "execution_count": 76,
     "metadata": {},
     "output_type": "execute_result"
    }
   ],
   "source": [
    "arr1"
   ]
  },
  {
   "cell_type": "code",
   "execution_count": 77,
   "id": "073e1590",
   "metadata": {},
   "outputs": [
    {
     "name": "stdout",
     "output_type": "stream",
     "text": [
      "[['Margaret' 'Rachel' 'Jim']\n",
      " ['Harold' 'Curtis' 'Simon']\n",
      " ['Lucy' 'Kurtis' 'Yu']]\n"
     ]
    }
   ],
   "source": [
    "print(arr1[:, 1, :])"
   ]
  },
  {
   "cell_type": "code",
   "execution_count": 78,
   "id": "fa7a7d37",
   "metadata": {},
   "outputs": [
    {
     "ename": "AttributeError",
     "evalue": "module 'numpy' has no attribute 'newasix'",
     "output_type": "error",
     "traceback": [
      "\u001b[0;31m---------------------------------------------------------------------------\u001b[0m",
      "\u001b[0;31mAttributeError\u001b[0m                            Traceback (most recent call last)",
      "\u001b[0;32m/var/folders/nf/wztbvlsd6zdbbhzd4ydxz3580000gn/T/ipykernel_26280/2555085042.py\u001b[0m in \u001b[0;36m<module>\u001b[0;34m\u001b[0m\n\u001b[0;32m----> 1\u001b[0;31m \u001b[0marr1\u001b[0m\u001b[0;34m[\u001b[0m\u001b[0;34m:\u001b[0m\u001b[0;34m,\u001b[0m \u001b[0;36m1\u001b[0m\u001b[0;34m,\u001b[0m \u001b[0mnp\u001b[0m\u001b[0;34m.\u001b[0m\u001b[0mnewasix\u001b[0m\u001b[0;34m,\u001b[0m \u001b[0;34m:\u001b[0m\u001b[0;34m]\u001b[0m\u001b[0;34m\u001b[0m\u001b[0;34m\u001b[0m\u001b[0m\n\u001b[0m",
      "\u001b[0;32m~/opt/anaconda3/lib/python3.9/site-packages/numpy/__init__.py\u001b[0m in \u001b[0;36m__getattr__\u001b[0;34m(attr)\u001b[0m\n\u001b[1;32m    301\u001b[0m                 \u001b[0;32mreturn\u001b[0m \u001b[0mTester\u001b[0m\u001b[0;34m\u001b[0m\u001b[0;34m\u001b[0m\u001b[0m\n\u001b[1;32m    302\u001b[0m \u001b[0;34m\u001b[0m\u001b[0m\n\u001b[0;32m--> 303\u001b[0;31m             raise AttributeError(\"module {!r} has no attribute \"\n\u001b[0m\u001b[1;32m    304\u001b[0m                                  \"{!r}\".format(__name__, attr))\n\u001b[1;32m    305\u001b[0m \u001b[0;34m\u001b[0m\u001b[0m\n",
      "\u001b[0;31mAttributeError\u001b[0m: module 'numpy' has no attribute 'newasix'"
     ]
    }
   ],
   "source": [
    "arr1[:, 1, np.newasix, :]"
   ]
  },
  {
   "cell_type": "code",
   "execution_count": 79,
   "id": "60b04959",
   "metadata": {},
   "outputs": [
    {
     "data": {
      "text/plain": [
       "array([[['Margaret', 'Rachel', 'Jim']],\n",
       "\n",
       "       [['Harold', 'Curtis', 'Simon']],\n",
       "\n",
       "       [['Lucy', 'Kurtis', 'Yu']]], dtype='<U8')"
      ]
     },
     "execution_count": 79,
     "metadata": {},
     "output_type": "execute_result"
    }
   ],
   "source": [
    "arr1[:, 1, np.newaxis, :]"
   ]
  },
  {
   "cell_type": "code",
   "execution_count": 80,
   "id": "b9cc2e1c",
   "metadata": {},
   "outputs": [
    {
     "data": {
      "text/plain": [
       "array([['Joe', 'Margaret', 'Wayne'],\n",
       "       ['Max', 'Harold', 'Bob'],\n",
       "       ['Wayne', 'Lucy', 'Joey']], dtype='<U8')"
      ]
     },
     "execution_count": 80,
     "metadata": {},
     "output_type": "execute_result"
    }
   ],
   "source": [
    "arr2"
   ]
  },
  {
   "cell_type": "code",
   "execution_count": 81,
   "id": "faf22303",
   "metadata": {},
   "outputs": [
    {
     "name": "stdout",
     "output_type": "stream",
     "text": [
      "['Joe' 'Margaret' 'Max' 'Harold' 'Bob' 'Lucy' 'Joey']\n"
     ]
    }
   ],
   "source": [
    "print(arr2[arr2 != 'Wayne'])"
   ]
  },
  {
   "cell_type": "code",
   "execution_count": 82,
   "id": "4b0ac4d6",
   "metadata": {},
   "outputs": [
    {
     "data": {
      "text/plain": [
       "array([['Joe', 'Margaret', 'Wayne'],\n",
       "       ['Max', 'Harold', 'Bob'],\n",
       "       ['Wayne', 'Lucy', 'Joey']], dtype='<U8')"
      ]
     },
     "execution_count": 82,
     "metadata": {},
     "output_type": "execute_result"
    }
   ],
   "source": [
    "arr2"
   ]
  },
  {
   "cell_type": "code",
   "execution_count": 83,
   "id": "ab47f712",
   "metadata": {},
   "outputs": [
    {
     "name": "stdout",
     "output_type": "stream",
     "text": [
      "[[ True  True False]\n",
      " [ True  True  True]\n",
      " [False  True  True]]\n"
     ]
    }
   ],
   "source": [
    "print(arr2 != 'Wayne')"
   ]
  },
  {
   "cell_type": "code",
   "execution_count": 84,
   "id": "d88797e9",
   "metadata": {},
   "outputs": [],
   "source": [
    "idx0 = np.array([[0, 0],\n",
    "                [2, -2]])"
   ]
  },
  {
   "cell_type": "code",
   "execution_count": 85,
   "id": "0d22c80d",
   "metadata": {},
   "outputs": [],
   "source": [
    "idx1 = np.array([[0, 2],\n",
    "                [0, 2]])"
   ]
  },
  {
   "cell_type": "code",
   "execution_count": 86,
   "id": "e7f9c56e",
   "metadata": {},
   "outputs": [
    {
     "data": {
      "text/plain": [
       "array([[ 0,  0],\n",
       "       [ 2, -2]])"
      ]
     },
     "execution_count": 86,
     "metadata": {},
     "output_type": "execute_result"
    }
   ],
   "source": [
    "idx0"
   ]
  },
  {
   "cell_type": "code",
   "execution_count": 87,
   "id": "43f7702a",
   "metadata": {},
   "outputs": [
    {
     "data": {
      "text/plain": [
       "array([[0, 2],\n",
       "       [0, 2]])"
      ]
     },
     "execution_count": 87,
     "metadata": {},
     "output_type": "execute_result"
    }
   ],
   "source": [
    "idx1"
   ]
  },
  {
   "cell_type": "code",
   "execution_count": 88,
   "id": "66d1c9da",
   "metadata": {},
   "outputs": [
    {
     "data": {
      "text/plain": [
       "array([[['Joe', 'Bob', 'Sarah'],\n",
       "        ['Margaret', 'Rachel', 'Jim'],\n",
       "        ['Wayne', 'Joey', 'Liam']],\n",
       "\n",
       "       [['Max', 'Maxine', 'Richard'],\n",
       "        ['Harold', 'Curtis', 'Simon'],\n",
       "        ['Bob', 'Liam', 'Simon']],\n",
       "\n",
       "       [['Wayne', 'Sarah', 'Lucy'],\n",
       "        ['Lucy', 'Kurtis', 'Yu'],\n",
       "        ['Joey', 'Lex', 'Alex']]], dtype='<U8')"
      ]
     },
     "execution_count": 88,
     "metadata": {},
     "output_type": "execute_result"
    }
   ],
   "source": [
    "arr1"
   ]
  },
  {
   "cell_type": "code",
   "execution_count": 89,
   "id": "2e648349",
   "metadata": {},
   "outputs": [
    {
     "data": {
      "text/plain": [
       "array(['Joe', 'Bob', 'Sarah', 'Margaret', 'Rachel', 'Jim', 'Wayne',\n",
       "       'Joey', 'Liam', 'Max', 'Maxine', 'Richard', 'Harold', 'Simon',\n",
       "       'Bob', 'Liam', 'Simon', 'Wayne', 'Sarah', 'Lucy', 'Lucy', 'Kurtis',\n",
       "       'Yu', 'Joey', 'Lex', 'Alex'], dtype='<U8')"
      ]
     },
     "execution_count": 89,
     "metadata": {},
     "output_type": "execute_result"
    }
   ],
   "source": [
    "arr1[arr1 != 'Curtis']"
   ]
  },
  {
   "cell_type": "code",
   "execution_count": 90,
   "id": "872ad9fc",
   "metadata": {},
   "outputs": [
    {
     "name": "stdout",
     "output_type": "stream",
     "text": [
      "[[[ True  True  True]\n",
      "  [ True  True  True]\n",
      "  [ True  True  True]]\n",
      "\n",
      " [[ True  True  True]\n",
      "  [ True False  True]\n",
      "  [ True  True  True]]\n",
      "\n",
      " [[ True  True  True]\n",
      "  [ True  True  True]\n",
      "  [ True  True  True]]]\n"
     ]
    }
   ],
   "source": [
    "print(arr1 != 'Curtis')"
   ]
  },
  {
   "cell_type": "code",
   "execution_count": 91,
   "id": "93e866c5",
   "metadata": {},
   "outputs": [
    {
     "ename": "NameError",
     "evalue": "name 'coord' is not defined",
     "output_type": "error",
     "traceback": [
      "\u001b[0;31m---------------------------------------------------------------------------\u001b[0m",
      "\u001b[0;31mNameError\u001b[0m                                 Traceback (most recent call last)",
      "\u001b[0;32m/var/folders/nf/wztbvlsd6zdbbhzd4ydxz3580000gn/T/ipykernel_26280/1961436712.py\u001b[0m in \u001b[0;36m<module>\u001b[0;34m\u001b[0m\n\u001b[0;32m----> 1\u001b[0;31m \u001b[0mcoord\u001b[0m\u001b[0;34m\u001b[0m\u001b[0;34m\u001b[0m\u001b[0m\n\u001b[0m",
      "\u001b[0;31mNameError\u001b[0m: name 'coord' is not defined"
     ]
    }
   ],
   "source": [
    "coord"
   ]
  },
  {
   "cell_type": "code",
   "execution_count": 92,
   "id": "2307318a",
   "metadata": {},
   "outputs": [],
   "source": [
    "from numpy.random import randn"
   ]
  },
  {
   "cell_type": "code",
   "execution_count": 93,
   "id": "f19761f5",
   "metadata": {},
   "outputs": [],
   "source": [
    "import numpy.linalg as ln"
   ]
  },
  {
   "cell_type": "code",
   "execution_count": 94,
   "id": "aa2ffe98",
   "metadata": {},
   "outputs": [
    {
     "data": {
      "text/plain": [
       "<module 'numpy.linalg' from '/Users/xinliao/opt/anaconda3/lib/python3.9/site-packages/numpy/linalg/__init__.py'>"
      ]
     },
     "execution_count": 94,
     "metadata": {},
     "output_type": "execute_result"
    }
   ],
   "source": [
    "ln"
   ]
  },
  {
   "cell_type": "code",
   "execution_count": 95,
   "id": "8accccb5",
   "metadata": {},
   "outputs": [],
   "source": [
    "arr1 = np.array(randn(3,3,3) * 10, dtype=np.int64)"
   ]
  },
  {
   "cell_type": "code",
   "execution_count": 96,
   "id": "e6dfccc3",
   "metadata": {},
   "outputs": [],
   "source": [
    "arr2 = np.array(randn(3,3,3) * 10, dtype = np.int64)"
   ]
  },
  {
   "cell_type": "code",
   "execution_count": 97,
   "id": "50e9293e",
   "metadata": {},
   "outputs": [
    {
     "data": {
      "text/plain": [
       "array([[[  4,   0,   5],\n",
       "        [ -7,   1, -12],\n",
       "        [  4,  -4,   1]],\n",
       "\n",
       "       [[ 15,   0,   3],\n",
       "        [ -4,   8,  18],\n",
       "        [  2,   3,   7]],\n",
       "\n",
       "       [[  3,   7,  -3],\n",
       "        [  2,  10,   0],\n",
       "        [-15,   4, -15]]])"
      ]
     },
     "execution_count": 97,
     "metadata": {},
     "output_type": "execute_result"
    }
   ],
   "source": [
    "arr1\n",
    "arr2"
   ]
  },
  {
   "cell_type": "code",
   "execution_count": 98,
   "id": "ccded15b",
   "metadata": {},
   "outputs": [
    {
     "data": {
      "text/plain": [
       "array([[[  6, -14,  -2],\n",
       "        [ -2,  -6,  -8],\n",
       "        [ 11,  -1,   9]],\n",
       "\n",
       "       [[-16, -13,  -6],\n",
       "        [  5,   2, -10],\n",
       "        [  1,  -1, -13]],\n",
       "\n",
       "       [[  0,   3,   4],\n",
       "        [  1, -10,   0],\n",
       "        [  5,  -3,  -6]]])"
      ]
     },
     "execution_count": 98,
     "metadata": {},
     "output_type": "execute_result"
    }
   ],
   "source": [
    "arr1"
   ]
  },
  {
   "cell_type": "code",
   "execution_count": 99,
   "id": "8514643f",
   "metadata": {},
   "outputs": [
    {
     "data": {
      "text/plain": [
       "array([[[  4,   0,   5],\n",
       "        [ -7,   1, -12],\n",
       "        [  4,  -4,   1]],\n",
       "\n",
       "       [[ 15,   0,   3],\n",
       "        [ -4,   8,  18],\n",
       "        [  2,   3,   7]],\n",
       "\n",
       "       [[  3,   7,  -3],\n",
       "        [  2,  10,   0],\n",
       "        [-15,   4, -15]]])"
      ]
     },
     "execution_count": 99,
     "metadata": {},
     "output_type": "execute_result"
    }
   ],
   "source": [
    "arr2"
   ]
  },
  {
   "cell_type": "code",
   "execution_count": 100,
   "id": "c9fb23b4",
   "metadata": {},
   "outputs": [
    {
     "data": {
      "text/plain": [
       "array([[[106,  86,  98],\n",
       "        [ 98,  94,  92],\n",
       "        [111,  99, 109]],\n",
       "\n",
       "       [[ 84,  87,  94],\n",
       "        [105, 102,  90],\n",
       "        [101,  99,  87]],\n",
       "\n",
       "       [[100, 103, 104],\n",
       "        [101,  90, 100],\n",
       "        [105,  97,  94]]])"
      ]
     },
     "execution_count": 100,
     "metadata": {},
     "output_type": "execute_result"
    }
   ],
   "source": [
    "arr1 + 100"
   ]
  },
  {
   "cell_type": "code",
   "execution_count": 101,
   "id": "f463ba49",
   "metadata": {},
   "outputs": [
    {
     "data": {
      "text/plain": [
       "array([[[ 3. , -7. , -1. ],\n",
       "        [-1. , -3. , -4. ],\n",
       "        [ 5.5, -0.5,  4.5]],\n",
       "\n",
       "       [[-8. , -6.5, -3. ],\n",
       "        [ 2.5,  1. , -5. ],\n",
       "        [ 0.5, -0.5, -6.5]],\n",
       "\n",
       "       [[ 0. ,  1.5,  2. ],\n",
       "        [ 0.5, -5. ,  0. ],\n",
       "        [ 2.5, -1.5, -3. ]]])"
      ]
     },
     "execution_count": 101,
     "metadata": {},
     "output_type": "execute_result"
    }
   ],
   "source": [
    "arr1 / 2"
   ]
  },
  {
   "cell_type": "code",
   "execution_count": 102,
   "id": "53e8186b",
   "metadata": {},
   "outputs": [
    {
     "data": {
      "text/plain": [
       "array([[[ 16,   0,  25],\n",
       "        [ 49,   1, 144],\n",
       "        [ 16,  16,   1]],\n",
       "\n",
       "       [[225,   0,   9],\n",
       "        [ 16,  64, 324],\n",
       "        [  4,   9,  49]],\n",
       "\n",
       "       [[  9,  49,   9],\n",
       "        [  4, 100,   0],\n",
       "        [225,  16, 225]]])"
      ]
     },
     "execution_count": 102,
     "metadata": {},
     "output_type": "execute_result"
    }
   ],
   "source": [
    "arr2 ** 2"
   ]
  },
  {
   "cell_type": "code",
   "execution_count": 103,
   "id": "e8dad094",
   "metadata": {},
   "outputs": [
    {
     "data": {
      "text/plain": [
       "array([[[  6, -14,  -2],\n",
       "        [ -2,  -6,  -8],\n",
       "        [ 11,  -1,   9]],\n",
       "\n",
       "       [[-16, -13,  -6],\n",
       "        [  5,   2, -10],\n",
       "        [  1,  -1, -13]],\n",
       "\n",
       "       [[  0,   3,   4],\n",
       "        [  1, -10,   0],\n",
       "        [  5,  -3,  -6]]])"
      ]
     },
     "execution_count": 103,
     "metadata": {},
     "output_type": "execute_result"
    }
   ],
   "source": [
    "arr1 "
   ]
  },
  {
   "cell_type": "code",
   "execution_count": 104,
   "id": "1bc6e35e",
   "metadata": {},
   "outputs": [
    {
     "data": {
      "text/plain": [
       "array([[[  4,   0,   5],\n",
       "        [ -7,   1, -12],\n",
       "        [  4,  -4,   1]],\n",
       "\n",
       "       [[ 15,   0,   3],\n",
       "        [ -4,   8,  18],\n",
       "        [  2,   3,   7]],\n",
       "\n",
       "       [[  3,   7,  -3],\n",
       "        [  2,  10,   0],\n",
       "        [-15,   4, -15]]])"
      ]
     },
     "execution_count": 104,
     "metadata": {},
     "output_type": "execute_result"
    }
   ],
   "source": [
    "arr2"
   ]
  },
  {
   "cell_type": "code",
   "execution_count": 105,
   "id": "454c0ac9",
   "metadata": {},
   "outputs": [
    {
     "data": {
      "text/plain": [
       "array([[[  24,    0,  -10],\n",
       "        [  14,   -6,   96],\n",
       "        [  44,    4,    9]],\n",
       "\n",
       "       [[-240,    0,  -18],\n",
       "        [ -20,   16, -180],\n",
       "        [   2,   -3,  -91]],\n",
       "\n",
       "       [[   0,   21,  -12],\n",
       "        [   2, -100,    0],\n",
       "        [ -75,  -12,   90]]])"
      ]
     },
     "execution_count": 105,
     "metadata": {},
     "output_type": "execute_result"
    }
   ],
   "source": [
    "arr1 * arr2"
   ]
  },
  {
   "cell_type": "code",
   "execution_count": 106,
   "id": "d3a15ce5",
   "metadata": {},
   "outputs": [
    {
     "data": {
      "text/plain": [
       "array([[[  24,    0,  -10],\n",
       "        [  14,   -6,   96],\n",
       "        [  44,    4,    9]],\n",
       "\n",
       "       [[-240,    0,  -18],\n",
       "        [ -20,   16, -180],\n",
       "        [   2,   -3,  -91]],\n",
       "\n",
       "       [[   0,   21,  -12],\n",
       "        [   2, -100,    0],\n",
       "        [ -75,  -12,   90]]])"
      ]
     },
     "execution_count": 106,
     "metadata": {},
     "output_type": "execute_result"
    }
   ],
   "source": [
    "arr1 * arr2"
   ]
  },
  {
   "cell_type": "code",
   "execution_count": 107,
   "id": "13c7e5e7",
   "metadata": {},
   "outputs": [
    {
     "name": "stderr",
     "output_type": "stream",
     "text": [
      "/var/folders/nf/wztbvlsd6zdbbhzd4ydxz3580000gn/T/ipykernel_26280/2823582803.py:1: RuntimeWarning: invalid value encountered in power\n",
      "  arr1 ** (arr2/4)\n"
     ]
    },
    {
     "data": {
      "text/plain": [
       "array([[[ 6.00000000e+00,  1.00000000e+00,             nan],\n",
       "        [            nan,             nan, -1.95312500e-03],\n",
       "        [ 1.10000000e+01, -1.00000000e+00,  1.73205081e+00]],\n",
       "\n",
       "       [[            nan,  1.00000000e+00,             nan],\n",
       "        [ 2.00000000e-01,  4.00000000e+00,             nan],\n",
       "        [ 1.00000000e+00,             nan,             nan]],\n",
       "\n",
       "       [[ 0.00000000e+00,  6.83852117e+00,  3.53553391e-01],\n",
       "        [ 1.00000000e+00,             nan,  1.00000000e+00],\n",
       "        [ 2.39255805e-03, -3.00000000e+00,             nan]]])"
      ]
     },
     "execution_count": 107,
     "metadata": {},
     "output_type": "execute_result"
    }
   ],
   "source": [
    "arr1 ** (arr2/4)"
   ]
  },
  {
   "cell_type": "code",
   "execution_count": 108,
   "id": "d72b70e2",
   "metadata": {},
   "outputs": [
    {
     "ename": "NameError",
     "evalue": "name 'arr3' is not defined",
     "output_type": "error",
     "traceback": [
      "\u001b[0;31m---------------------------------------------------------------------------\u001b[0m",
      "\u001b[0;31mNameError\u001b[0m                                 Traceback (most recent call last)",
      "\u001b[0;32m/var/folders/nf/wztbvlsd6zdbbhzd4ydxz3580000gn/T/ipykernel_26280/82591179.py\u001b[0m in \u001b[0;36m<module>\u001b[0;34m\u001b[0m\n\u001b[0;32m----> 1\u001b[0;31m \u001b[0mprint\u001b[0m \u001b[0;34m(\u001b[0m\u001b[0marr3\u001b[0m\u001b[0;34m.\u001b[0m\u001b[0mshape\u001b[0m\u001b[0;34m)\u001b[0m\u001b[0;34m\u001b[0m\u001b[0;34m\u001b[0m\u001b[0m\n\u001b[0m",
      "\u001b[0;31mNameError\u001b[0m: name 'arr3' is not defined"
     ]
    }
   ],
   "source": [
    "print (arr3.shape)"
   ]
  },
  {
   "cell_type": "code",
   "execution_count": 109,
   "id": "c92dae70",
   "metadata": {},
   "outputs": [],
   "source": [
    "arr3 = np.array(randn(4,4) * 10, dtype=np.int8)"
   ]
  },
  {
   "cell_type": "code",
   "execution_count": 110,
   "id": "b2f63d9a",
   "metadata": {},
   "outputs": [
    {
     "data": {
      "text/plain": [
       "array([[ -3,   8, -10,  14],\n",
       "       [ -5,   9, -14,  -7],\n",
       "       [  7,  -6, -15,   9],\n",
       "       [ -4,   3,   4,  -7]], dtype=int8)"
      ]
     },
     "execution_count": 110,
     "metadata": {},
     "output_type": "execute_result"
    }
   ],
   "source": [
    "arr3"
   ]
  },
  {
   "cell_type": "code",
   "execution_count": 111,
   "id": "50ccc963",
   "metadata": {},
   "outputs": [
    {
     "data": {
      "text/plain": [
       "[[[6, -14, -2], [-2, -6, -8], [11, -1, 9]],\n",
       " [[-16, -13, -6], [5, 2, -10], [1, -1, -13]],\n",
       " [[0, 3, 4], [1, -10, 0], [5, -3, -6]]]"
      ]
     },
     "execution_count": 111,
     "metadata": {},
     "output_type": "execute_result"
    }
   ],
   "source": [
    "arr1.tolist()"
   ]
  },
  {
   "cell_type": "code",
   "execution_count": 112,
   "id": "3107a860",
   "metadata": {},
   "outputs": [],
   "source": [
    "arr2 = np.empty((4,3), dtype=np.dtype('<U15'))"
   ]
  },
  {
   "cell_type": "code",
   "execution_count": 113,
   "id": "08da7838",
   "metadata": {},
   "outputs": [
    {
     "data": {
      "text/plain": [
       "array([['', '', ''],\n",
       "       ['', '', ''],\n",
       "       ['', '', ''],\n",
       "       ['', '', '']], dtype='<U15')"
      ]
     },
     "execution_count": 113,
     "metadata": {},
     "output_type": "execute_result"
    }
   ],
   "source": [
    "arr2"
   ]
  },
  {
   "cell_type": "code",
   "execution_count": 114,
   "id": "65603eef",
   "metadata": {},
   "outputs": [],
   "source": [
    "arr2.fill('Carlos')"
   ]
  },
  {
   "cell_type": "code",
   "execution_count": 115,
   "id": "bc07855b",
   "metadata": {},
   "outputs": [
    {
     "data": {
      "text/plain": [
       "array([['Carlos', 'Carlos', 'Carlos'],\n",
       "       ['Carlos', 'Carlos', 'Carlos'],\n",
       "       ['Carlos', 'Carlos', 'Carlos'],\n",
       "       ['Carlos', 'Carlos', 'Carlos']], dtype='<U15')"
      ]
     },
     "execution_count": 115,
     "metadata": {},
     "output_type": "execute_result"
    }
   ],
   "source": [
    "arr2"
   ]
  },
  {
   "cell_type": "code",
   "execution_count": 116,
   "id": "fbd79815",
   "metadata": {},
   "outputs": [
    {
     "data": {
      "text/plain": [
       "-64"
      ]
     },
     "execution_count": 116,
     "metadata": {},
     "output_type": "execute_result"
    }
   ],
   "source": [
    "arr1.sum()"
   ]
  },
  {
   "cell_type": "code",
   "execution_count": 117,
   "id": "c0290289",
   "metadata": {},
   "outputs": [
    {
     "data": {
      "text/plain": [
       "array([[-10, -24,  -4],\n",
       "       [  4, -14, -18],\n",
       "       [ 17,  -5, -10]])"
      ]
     },
     "execution_count": 117,
     "metadata": {},
     "output_type": "execute_result"
    }
   ],
   "source": [
    "arr1.sum(axis = 0)"
   ]
  },
  {
   "cell_type": "code",
   "execution_count": 118,
   "id": "57c7d294",
   "metadata": {},
   "outputs": [
    {
     "data": {
      "text/plain": [
       "array([[[  6, -14,  -2],\n",
       "        [ -2,  -6,  -8],\n",
       "        [ 11,  -1,   9]],\n",
       "\n",
       "       [[-16, -13,  -6],\n",
       "        [  5,   2, -10],\n",
       "        [  1,  -1, -13]],\n",
       "\n",
       "       [[  0,   3,   4],\n",
       "        [  1, -10,   0],\n",
       "        [  5,  -3,  -6]]])"
      ]
     },
     "execution_count": 118,
     "metadata": {},
     "output_type": "execute_result"
    }
   ],
   "source": [
    "arr1"
   ]
  },
  {
   "cell_type": "code",
   "execution_count": 119,
   "id": "166bb938",
   "metadata": {},
   "outputs": [
    {
     "data": {
      "text/plain": [
       "array([['Carlos', 'Carlos', 'Carlos'],\n",
       "       ['Carlos', 'Carlos', 'Carlos'],\n",
       "       ['Carlos', 'Carlos', 'Carlos'],\n",
       "       ['Carlos', 'Carlos', 'Carlos']], dtype='<U15')"
      ]
     },
     "execution_count": 119,
     "metadata": {},
     "output_type": "execute_result"
    }
   ],
   "source": [
    "arr2"
   ]
  },
  {
   "cell_type": "code",
   "execution_count": 120,
   "id": "c5510254",
   "metadata": {},
   "outputs": [],
   "source": [
    "arr1 =np.array(randn(4, 4) * 10, dtype = np.uint8)"
   ]
  },
  {
   "cell_type": "code",
   "execution_count": 121,
   "id": "6f510d66",
   "metadata": {},
   "outputs": [
    {
     "data": {
      "text/plain": [
       "array([[247, 252,   5,  18],\n",
       "       [242, 253, 252, 247],\n",
       "       [ 13,   1, 253, 241],\n",
       "       [244, 248,   1,   1]], dtype=uint8)"
      ]
     },
     "execution_count": 121,
     "metadata": {},
     "output_type": "execute_result"
    }
   ],
   "source": [
    "arr1"
   ]
  },
  {
   "cell_type": "code",
   "execution_count": 122,
   "id": "695b05e6",
   "metadata": {},
   "outputs": [],
   "source": [
    "arr1 = np.array(randn(4,4), dtype = np.int8)"
   ]
  },
  {
   "cell_type": "code",
   "execution_count": 123,
   "id": "83d7df78",
   "metadata": {},
   "outputs": [
    {
     "data": {
      "text/plain": [
       "array([[ 0,  0,  1,  0],\n",
       "       [ 0,  0,  1,  0],\n",
       "       [ 0,  0,  1,  0],\n",
       "       [ 0, -1,  0,  0]], dtype=int8)"
      ]
     },
     "execution_count": 123,
     "metadata": {},
     "output_type": "execute_result"
    }
   ],
   "source": [
    "arr1"
   ]
  },
  {
   "cell_type": "code",
   "execution_count": null,
   "id": "9d3d9cd9",
   "metadata": {},
   "outputs": [],
   "source": []
  }
 ],
 "metadata": {
  "kernelspec": {
   "display_name": "Python 3 (ipykernel)",
   "language": "python",
   "name": "python3"
  },
  "language_info": {
   "codemirror_mode": {
    "name": "ipython",
    "version": 3
   },
   "file_extension": ".py",
   "mimetype": "text/x-python",
   "name": "python",
   "nbconvert_exporter": "python",
   "pygments_lexer": "ipython3",
   "version": "3.9.7"
  }
 },
 "nbformat": 4,
 "nbformat_minor": 5
}
