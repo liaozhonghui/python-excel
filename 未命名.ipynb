{
 "cells": [
  {
   "cell_type": "code",
   "execution_count": 1,
   "id": "8a5b16b4",
   "metadata": {},
   "outputs": [],
   "source": [
    "import numpy as np"
   ]
  },
  {
   "cell_type": "code",
   "execution_count": 2,
   "id": "322fe901",
   "metadata": {},
   "outputs": [],
   "source": [
    "import pandas as pd"
   ]
  },
  {
   "cell_type": "code",
   "execution_count": 3,
   "id": "95f90ef6",
   "metadata": {},
   "outputs": [
    {
     "name": "stdout",
     "output_type": "stream",
     "text": [
      "406 ns ± 14.6 ns per loop (mean ± std. dev. of 7 runs, 1000000 loops each)\n"
     ]
    }
   ],
   "source": [
    "%timeit 2**128"
   ]
  },
  {
   "cell_type": "code",
   "execution_count": 4,
   "id": "dc2ebd47",
   "metadata": {},
   "outputs": [
    {
     "data": {
      "text/plain": [
       "'/Users/xinliao/Projects/gitclone/python-excel'"
      ]
     },
     "execution_count": 4,
     "metadata": {},
     "output_type": "execute_result"
    }
   ],
   "source": [
    "%pwd"
   ]
  },
  {
   "cell_type": "code",
   "execution_count": 5,
   "id": "837176b2",
   "metadata": {},
   "outputs": [
    {
     "name": "stdout",
     "output_type": "stream",
     "text": [
      "Using matplotlib backend: MacOSX\n",
      "Populating the interactive namespace from numpy and matplotlib\n"
     ]
    }
   ],
   "source": [
    "%pylab"
   ]
  },
  {
   "cell_type": "code",
   "execution_count": 6,
   "id": "56e42b3b",
   "metadata": {},
   "outputs": [],
   "source": [
    "int_ones = np.ones((2,2), dtype=np.int8())"
   ]
  },
  {
   "cell_type": "code",
   "execution_count": 7,
   "id": "4d2ef4d3",
   "metadata": {},
   "outputs": [
    {
     "data": {
      "text/plain": [
       "array([[1, 1],\n",
       "       [1, 1]], dtype=int8)"
      ]
     },
     "execution_count": 7,
     "metadata": {},
     "output_type": "execute_result"
    }
   ],
   "source": [
    "int_ones"
   ]
  },
  {
   "cell_type": "code",
   "execution_count": 8,
   "id": "eecca7c8",
   "metadata": {},
   "outputs": [
    {
     "data": {
      "text/plain": [
       "array([[1, 1],\n",
       "       [1, 1]], dtype=uint8)"
      ]
     },
     "execution_count": 8,
     "metadata": {},
     "output_type": "execute_result"
    }
   ],
   "source": [
    "uint_ones = np.ones((2,2), dtype=np.uint8)\n",
    "uint_ones"
   ]
  },
  {
   "cell_type": "code",
   "execution_count": 9,
   "id": "63109a43",
   "metadata": {},
   "outputs": [],
   "source": [
    "string_arr = np.array(['Sam', 'Bill', 'Gary'])"
   ]
  },
  {
   "cell_type": "code",
   "execution_count": 10,
   "id": "8058f29d",
   "metadata": {},
   "outputs": [
    {
     "data": {
      "text/plain": [
       "array(['Sam', 'Bill', 'Gary'], dtype='<U4')"
      ]
     },
     "execution_count": 10,
     "metadata": {},
     "output_type": "execute_result"
    }
   ],
   "source": [
    "string_arr"
   ]
  },
  {
   "cell_type": "code",
   "execution_count": 11,
   "id": "f249e524",
   "metadata": {},
   "outputs": [
    {
     "data": {
      "text/plain": [
       "array(['Sam', 'Bill', 'Gary'], dtype='<U4')"
      ]
     },
     "execution_count": 11,
     "metadata": {},
     "output_type": "execute_result"
    }
   ],
   "source": [
    "string_arr"
   ]
  },
  {
   "cell_type": "code",
   "execution_count": 12,
   "id": "0f12f1bb",
   "metadata": {},
   "outputs": [],
   "source": [
    "string_arr[1] = 'Waldo'"
   ]
  },
  {
   "cell_type": "code",
   "execution_count": 13,
   "id": "54ec076f",
   "metadata": {},
   "outputs": [
    {
     "data": {
      "text/plain": [
       "array(['Sam', 'Wald', 'Gary'], dtype='<U4')"
      ]
     },
     "execution_count": 13,
     "metadata": {},
     "output_type": "execute_result"
    }
   ],
   "source": [
    "string_arr"
   ]
  },
  {
   "cell_type": "code",
   "execution_count": 14,
   "id": "18bbb0ba",
   "metadata": {},
   "outputs": [
    {
     "data": {
      "text/plain": [
       "array(['Sam', 'Wald', 'Gary'], dtype='<U4')"
      ]
     },
     "execution_count": 14,
     "metadata": {},
     "output_type": "execute_result"
    }
   ],
   "source": [
    "string_arr"
   ]
  },
  {
   "cell_type": "code",
   "execution_count": 15,
   "id": "bbe1e039",
   "metadata": {},
   "outputs": [
    {
     "data": {
      "text/plain": [
       "inf"
      ]
     },
     "execution_count": 15,
     "metadata": {},
     "output_type": "execute_result"
    }
   ],
   "source": [
    "inf + 1"
   ]
  },
  {
   "cell_type": "code",
   "execution_count": 16,
   "id": "eccfffba",
   "metadata": {},
   "outputs": [
    {
     "data": {
      "text/plain": [
       "-inf"
      ]
     },
     "execution_count": 16,
     "metadata": {},
     "output_type": "execute_result"
    }
   ],
   "source": [
    "inf * -1"
   ]
  },
  {
   "cell_type": "code",
   "execution_count": 17,
   "id": "0868b144",
   "metadata": {},
   "outputs": [
    {
     "data": {
      "text/plain": [
       "nan"
      ]
     },
     "execution_count": 17,
     "metadata": {},
     "output_type": "execute_result"
    }
   ],
   "source": [
    "nan + 1"
   ]
  },
  {
   "cell_type": "code",
   "execution_count": 18,
   "id": "5be9239e",
   "metadata": {},
   "outputs": [
    {
     "data": {
      "text/plain": [
       "nan"
      ]
     },
     "execution_count": 18,
     "metadata": {},
     "output_type": "execute_result"
    }
   ],
   "source": [
    "inf - inf"
   ]
  },
  {
   "cell_type": "code",
   "execution_count": 19,
   "id": "f23fd955",
   "metadata": {},
   "outputs": [
    {
     "data": {
      "text/plain": [
       "array([nan,  1.,  1.,  1.,  1.])"
      ]
     },
     "execution_count": 19,
     "metadata": {},
     "output_type": "execute_result"
    }
   ],
   "source": [
    "vec4 = np.ones(5)\n",
    "vec4[0] = np.nan\n",
    "vec4"
   ]
  },
  {
   "cell_type": "code",
   "execution_count": 20,
   "id": "079f1792",
   "metadata": {},
   "outputs": [
    {
     "data": {
      "text/plain": [
       "nan"
      ]
     },
     "execution_count": 20,
     "metadata": {},
     "output_type": "execute_result"
    }
   ],
   "source": [
    "np.sum(vec4)"
   ]
  },
  {
   "cell_type": "code",
   "execution_count": 21,
   "id": "02469b80",
   "metadata": {},
   "outputs": [
    {
     "data": {
      "text/plain": [
       "4.0"
      ]
     },
     "execution_count": 21,
     "metadata": {},
     "output_type": "execute_result"
    }
   ],
   "source": [
    "np.nansum(vec4)"
   ]
  },
  {
   "cell_type": "code",
   "execution_count": 22,
   "id": "f573c684",
   "metadata": {},
   "outputs": [],
   "source": [
    "vec1 = np.ones((5))"
   ]
  },
  {
   "cell_type": "code",
   "execution_count": 23,
   "id": "819b013f",
   "metadata": {},
   "outputs": [
    {
     "data": {
      "text/plain": [
       "array([1., 1., 1., 1., 1.])"
      ]
     },
     "execution_count": 23,
     "metadata": {},
     "output_type": "execute_result"
    }
   ],
   "source": [
    "vec1"
   ]
  },
  {
   "cell_type": "code",
   "execution_count": 24,
   "id": "31fcd471",
   "metadata": {},
   "outputs": [],
   "source": [
    "vec1.dtype = np.int8"
   ]
  },
  {
   "cell_type": "code",
   "execution_count": 25,
   "id": "aabe1af5",
   "metadata": {},
   "outputs": [
    {
     "data": {
      "text/plain": [
       "array([  0,   0,   0,   0,   0,   0, -16,  63,   0,   0,   0,   0,   0,\n",
       "         0, -16,  63,   0,   0,   0,   0,   0,   0, -16,  63,   0,   0,\n",
       "         0,   0,   0,   0, -16,  63,   0,   0,   0,   0,   0,   0, -16,\n",
       "        63], dtype=int8)"
      ]
     },
     "execution_count": 25,
     "metadata": {},
     "output_type": "execute_result"
    }
   ],
   "source": [
    "vec1"
   ]
  },
  {
   "cell_type": "code",
   "execution_count": 26,
   "id": "408b8833",
   "metadata": {},
   "outputs": [],
   "source": [
    "vec1 = np.ones((5))"
   ]
  },
  {
   "cell_type": "code",
   "execution_count": 27,
   "id": "4b58e567",
   "metadata": {},
   "outputs": [],
   "source": [
    "vec1 = np.array(vec1, dtype = np.int8)"
   ]
  },
  {
   "cell_type": "code",
   "execution_count": 28,
   "id": "c5d0900a",
   "metadata": {},
   "outputs": [
    {
     "data": {
      "text/plain": [
       "array([1, 1, 1, 1, 1], dtype=int8)"
      ]
     },
     "execution_count": 28,
     "metadata": {},
     "output_type": "execute_result"
    }
   ],
   "source": [
    "vec1"
   ]
  },
  {
   "cell_type": "code",
   "execution_count": 29,
   "id": "37c1e55d",
   "metadata": {},
   "outputs": [],
   "source": [
    "vec1 = np.ones((5), dtype=np.int8)"
   ]
  },
  {
   "cell_type": "code",
   "execution_count": 30,
   "id": "5943abbe",
   "metadata": {},
   "outputs": [
    {
     "data": {
      "text/plain": [
       "array([1, 1, 1, 1, 1], dtype=int8)"
      ]
     },
     "execution_count": 30,
     "metadata": {},
     "output_type": "execute_result"
    }
   ],
   "source": [
    "vec1"
   ]
  },
  {
   "cell_type": "code",
   "execution_count": 31,
   "id": "309ca6b3",
   "metadata": {},
   "outputs": [],
   "source": [
    "arr1 = np.zeros((2,2,2), dtype=np.float64)"
   ]
  },
  {
   "cell_type": "code",
   "execution_count": 32,
   "id": "edfefa68",
   "metadata": {},
   "outputs": [
    {
     "data": {
      "text/plain": [
       "array([[[0., 0.],\n",
       "        [0., 0.]],\n",
       "\n",
       "       [[0., 0.],\n",
       "        [0., 0.]]])"
      ]
     },
     "execution_count": 32,
     "metadata": {},
     "output_type": "execute_result"
    }
   ],
   "source": [
    "arr1"
   ]
  },
  {
   "cell_type": "code",
   "execution_count": 33,
   "id": "c56a9c7b",
   "metadata": {},
   "outputs": [],
   "source": [
    "mat1 = np.random.randn(3,3)"
   ]
  },
  {
   "cell_type": "code",
   "execution_count": 34,
   "id": "3189c16d",
   "metadata": {},
   "outputs": [
    {
     "data": {
      "text/plain": [
       "array([[ 0.75022374,  1.07384072, -0.62613052],\n",
       "       [ 0.18851496,  1.33711173,  0.29006489],\n",
       "       [ 0.26875612,  1.72859086, -0.83195116]])"
      ]
     },
     "execution_count": 34,
     "metadata": {},
     "output_type": "execute_result"
    }
   ],
   "source": [
    "mat1"
   ]
  },
  {
   "cell_type": "code",
   "execution_count": 35,
   "id": "700b6d94",
   "metadata": {},
   "outputs": [],
   "source": [
    "mat2 = np.array([['bob', 'jane'], ['bill', 'janet']])"
   ]
  },
  {
   "cell_type": "code",
   "execution_count": 36,
   "id": "edaa6a78",
   "metadata": {},
   "outputs": [
    {
     "data": {
      "text/plain": [
       "array([['bob', 'jane'],\n",
       "       ['bill', 'janet']], dtype='<U5')"
      ]
     },
     "execution_count": 36,
     "metadata": {},
     "output_type": "execute_result"
    }
   ],
   "source": [
    "mat2"
   ]
  },
  {
   "cell_type": "code",
   "execution_count": 37,
   "id": "9692aed5",
   "metadata": {},
   "outputs": [],
   "source": [
    "arr2 = np.array([[(1,3,5), (2,4,6)], [(1, np.nan, 1), (2,2,2)]])"
   ]
  },
  {
   "cell_type": "code",
   "execution_count": 38,
   "id": "40eb1da1",
   "metadata": {},
   "outputs": [
    {
     "data": {
      "text/plain": [
       "array([[[ 1.,  3.,  5.],\n",
       "        [ 2.,  4.,  6.]],\n",
       "\n",
       "       [[ 1., nan,  1.],\n",
       "        [ 2.,  2.,  2.]]])"
      ]
     },
     "execution_count": 38,
     "metadata": {},
     "output_type": "execute_result"
    }
   ],
   "source": [
    "arr2"
   ]
  },
  {
   "cell_type": "code",
   "execution_count": 39,
   "id": "02d75847",
   "metadata": {},
   "outputs": [
    {
     "data": {
      "text/plain": [
       "array([['bob', 'jane'],\n",
       "       ['bill', 'janet']], dtype='<U5')"
      ]
     },
     "execution_count": 39,
     "metadata": {},
     "output_type": "execute_result"
    }
   ],
   "source": [
    "mat2"
   ]
  },
  {
   "cell_type": "code",
   "execution_count": 40,
   "id": "76088709",
   "metadata": {},
   "outputs": [],
   "source": [
    "mat2_cpy = mat2.copy()"
   ]
  },
  {
   "cell_type": "code",
   "execution_count": 41,
   "id": "86593ab6",
   "metadata": {},
   "outputs": [
    {
     "data": {
      "text/plain": [
       "array([['bob', 'jane'],\n",
       "       ['bill', 'janet']], dtype='<U5')"
      ]
     },
     "execution_count": 41,
     "metadata": {},
     "output_type": "execute_result"
    }
   ],
   "source": [
    "mat2_cpy"
   ]
  },
  {
   "cell_type": "code",
   "execution_count": 42,
   "id": "fd326920",
   "metadata": {},
   "outputs": [
    {
     "data": {
      "text/plain": [
       "array([[[0., 0.],\n",
       "        [0., 0.]],\n",
       "\n",
       "       [[0., 0.],\n",
       "        [0., 0.]]])"
      ]
     },
     "execution_count": 42,
     "metadata": {},
     "output_type": "execute_result"
    }
   ],
   "source": [
    "arr1"
   ]
  },
  {
   "cell_type": "code",
   "execution_count": 43,
   "id": "2a607a25",
   "metadata": {},
   "outputs": [],
   "source": [
    "np.save('arr1', arr1)"
   ]
  },
  {
   "cell_type": "code",
   "execution_count": 44,
   "id": "47518343",
   "metadata": {},
   "outputs": [],
   "source": [
    "arr1_new = np.load('arr1.npy')"
   ]
  },
  {
   "cell_type": "code",
   "execution_count": 45,
   "id": "7dcdfe26",
   "metadata": {},
   "outputs": [
    {
     "data": {
      "text/plain": [
       "array([[[0., 0.],\n",
       "        [0., 0.]],\n",
       "\n",
       "       [[0., 0.],\n",
       "        [0., 0.]]])"
      ]
     },
     "execution_count": 45,
     "metadata": {},
     "output_type": "execute_result"
    }
   ],
   "source": [
    "arr1_new"
   ]
  },
  {
   "cell_type": "code",
   "execution_count": 46,
   "id": "ff9b228b",
   "metadata": {},
   "outputs": [
    {
     "data": {
      "text/plain": [
       "array([[[0., 0.],\n",
       "        [0., 0.]],\n",
       "\n",
       "       [[0., 0.],\n",
       "        [0., 0.]]])"
      ]
     },
     "execution_count": 46,
     "metadata": {},
     "output_type": "execute_result"
    }
   ],
   "source": [
    "arr1_new"
   ]
  },
  {
   "cell_type": "code",
   "execution_count": 47,
   "id": "775c0ba3",
   "metadata": {},
   "outputs": [],
   "source": [
    "arr1 = np.array([[[\"Joe\", 'Bob', \"Sarah\"], \n",
    "                  ['Margaret', \"Rachel\", \"Jim\"], \n",
    "                  [\"Wayne\", \"Joey\", \"Liam\"]],\n",
    "                \n",
    "                [[\"Max\", \"Maxine\", \"Richard\"], \n",
    "                [\"Harold\", \"Curtis\", \"Simon\"],\n",
    "                [\"Bob\", \"Liam\", \"Simon\"]],\n",
    "                \n",
    "                [[\"Wayne\", \"Sarah\", \"Lucy\"],\n",
    "                [\"Lucy\", \"Kurtis\", \"Yu\"],\n",
    "                [\"Joey\", \"Lex\", \"Alex\"]]])"
   ]
  },
  {
   "cell_type": "code",
   "execution_count": 48,
   "id": "7b013973",
   "metadata": {},
   "outputs": [
    {
     "data": {
      "text/plain": [
       "array([[['Joe', 'Bob', 'Sarah'],\n",
       "        ['Margaret', 'Rachel', 'Jim'],\n",
       "        ['Wayne', 'Joey', 'Liam']],\n",
       "\n",
       "       [['Max', 'Maxine', 'Richard'],\n",
       "        ['Harold', 'Curtis', 'Simon'],\n",
       "        ['Bob', 'Liam', 'Simon']],\n",
       "\n",
       "       [['Wayne', 'Sarah', 'Lucy'],\n",
       "        ['Lucy', 'Kurtis', 'Yu'],\n",
       "        ['Joey', 'Lex', 'Alex']]], dtype='<U8')"
      ]
     },
     "execution_count": 48,
     "metadata": {},
     "output_type": "execute_result"
    }
   ],
   "source": [
    "arr1"
   ]
  },
  {
   "cell_type": "code",
   "execution_count": 49,
   "id": "fea87d63",
   "metadata": {},
   "outputs": [],
   "source": [
    "arr2 = arr1[:, : ,0].copy()"
   ]
  },
  {
   "cell_type": "code",
   "execution_count": 50,
   "id": "4ba27c1b",
   "metadata": {},
   "outputs": [
    {
     "data": {
      "text/plain": [
       "array([['Joe', 'Margaret', 'Wayne'],\n",
       "       ['Max', 'Harold', 'Bob'],\n",
       "       ['Wayne', 'Lucy', 'Joey']], dtype='<U8')"
      ]
     },
     "execution_count": 50,
     "metadata": {},
     "output_type": "execute_result"
    }
   ],
   "source": [
    "arr2"
   ]
  },
  {
   "cell_type": "code",
   "execution_count": 51,
   "id": "8b1fa5c8",
   "metadata": {},
   "outputs": [
    {
     "name": "stdout",
     "output_type": "stream",
     "text": [
      "['Max' 'Harold' 'Bob' 'Margaret' 'Lucy']\n"
     ]
    }
   ],
   "source": [
    "print(arr2[[1,1,1,0,2], [0,1,2,1,1]])"
   ]
  },
  {
   "cell_type": "code",
   "execution_count": 52,
   "id": "b5eedc2e",
   "metadata": {},
   "outputs": [
    {
     "data": {
      "text/plain": [
       "array([['Joe', 'Margaret', 'Wayne'],\n",
       "       ['Max', 'Harold', 'Bob'],\n",
       "       ['Wayne', 'Lucy', 'Joey']], dtype='<U8')"
      ]
     },
     "execution_count": 52,
     "metadata": {},
     "output_type": "execute_result"
    }
   ],
   "source": [
    "arr2"
   ]
  },
  {
   "cell_type": "code",
   "execution_count": 53,
   "id": "593b9ac6",
   "metadata": {},
   "outputs": [
    {
     "data": {
      "text/plain": [
       "array([['Joe', 'Margaret'],\n",
       "       ['Max', 'Harold']], dtype='<U8')"
      ]
     },
     "execution_count": 53,
     "metadata": {},
     "output_type": "execute_result"
    }
   ],
   "source": [
    "arr2[:2, :2]"
   ]
  },
  {
   "cell_type": "code",
   "execution_count": 54,
   "id": "3f428300",
   "metadata": {},
   "outputs": [
    {
     "name": "stdout",
     "output_type": "stream",
     "text": [
      "['Margaret' 'Harold' 'Lucy']\n"
     ]
    }
   ],
   "source": [
    "print(arr2[:, 1])"
   ]
  },
  {
   "cell_type": "code",
   "execution_count": 55,
   "id": "a8cab1b1",
   "metadata": {},
   "outputs": [
    {
     "name": "stdout",
     "output_type": "stream",
     "text": [
      "[['Margaret']\n",
      " ['Harold']\n",
      " ['Lucy']]\n"
     ]
    }
   ],
   "source": [
    "print(arr2[:, [1]])"
   ]
  },
  {
   "cell_type": "code",
   "execution_count": 56,
   "id": "a56ed916",
   "metadata": {},
   "outputs": [
    {
     "name": "stdout",
     "output_type": "stream",
     "text": [
      "[['Wayne' 'Lucy' 'Joey']\n",
      " ['Max' 'Harold' 'Bob']\n",
      " ['Joe' 'Margaret' 'Wayne']]\n"
     ]
    }
   ],
   "source": [
    "print(arr2[::-1, :])"
   ]
  },
  {
   "cell_type": "code",
   "execution_count": 57,
   "id": "3ec088c5",
   "metadata": {},
   "outputs": [
    {
     "data": {
      "text/plain": [
       "array([['Joe', 'Margaret', 'Wayne'],\n",
       "       ['Max', 'Harold', 'Bob'],\n",
       "       ['Wayne', 'Lucy', 'Joey']], dtype='<U8')"
      ]
     },
     "execution_count": 57,
     "metadata": {},
     "output_type": "execute_result"
    }
   ],
   "source": [
    "arr2"
   ]
  },
  {
   "cell_type": "code",
   "execution_count": 58,
   "id": "bd79f77d",
   "metadata": {},
   "outputs": [
    {
     "name": "stdout",
     "output_type": "stream",
     "text": [
      "[['Joe' 'Wayne']\n",
      " ['Max' 'Bob']\n",
      " ['Wayne' 'Joey']]\n"
     ]
    }
   ],
   "source": [
    "print(arr2[:, 0:3:2])"
   ]
  },
  {
   "cell_type": "code",
   "execution_count": 59,
   "id": "9a448b8c",
   "metadata": {},
   "outputs": [
    {
     "name": "stdout",
     "output_type": "stream",
     "text": [
      "[[['Joe' 'Bob']\n",
      "  ['Margaret' 'Rachel']]\n",
      "\n",
      " [['Max' 'Maxine']\n",
      "  ['Harold' 'Curtis']]]\n"
     ]
    }
   ],
   "source": [
    "print(arr1[0:2, 0:2, 0:2])"
   ]
  },
  {
   "cell_type": "code",
   "execution_count": 60,
   "id": "8f8aa63e",
   "metadata": {},
   "outputs": [
    {
     "data": {
      "text/plain": [
       "array([[['Joe', 'Bob', 'Sarah'],\n",
       "        ['Margaret', 'Rachel', 'Jim'],\n",
       "        ['Wayne', 'Joey', 'Liam']],\n",
       "\n",
       "       [['Max', 'Maxine', 'Richard'],\n",
       "        ['Harold', 'Curtis', 'Simon'],\n",
       "        ['Bob', 'Liam', 'Simon']],\n",
       "\n",
       "       [['Wayne', 'Sarah', 'Lucy'],\n",
       "        ['Lucy', 'Kurtis', 'Yu'],\n",
       "        ['Joey', 'Lex', 'Alex']]], dtype='<U8')"
      ]
     },
     "execution_count": 60,
     "metadata": {},
     "output_type": "execute_result"
    }
   ],
   "source": [
    "arr1"
   ]
  },
  {
   "cell_type": "code",
   "execution_count": 61,
   "id": "073e1590",
   "metadata": {},
   "outputs": [
    {
     "name": "stdout",
     "output_type": "stream",
     "text": [
      "[['Margaret' 'Rachel' 'Jim']\n",
      " ['Harold' 'Curtis' 'Simon']\n",
      " ['Lucy' 'Kurtis' 'Yu']]\n"
     ]
    }
   ],
   "source": [
    "print(arr1[:, 1, :])"
   ]
  },
  {
   "cell_type": "code",
   "execution_count": 62,
   "id": "60b04959",
   "metadata": {},
   "outputs": [
    {
     "data": {
      "text/plain": [
       "array([[['Margaret', 'Rachel', 'Jim']],\n",
       "\n",
       "       [['Harold', 'Curtis', 'Simon']],\n",
       "\n",
       "       [['Lucy', 'Kurtis', 'Yu']]], dtype='<U8')"
      ]
     },
     "execution_count": 62,
     "metadata": {},
     "output_type": "execute_result"
    }
   ],
   "source": [
    "arr1[:, 1, np.newaxis, :]"
   ]
  },
  {
   "cell_type": "code",
   "execution_count": 63,
   "id": "b9cc2e1c",
   "metadata": {},
   "outputs": [
    {
     "data": {
      "text/plain": [
       "array([['Joe', 'Margaret', 'Wayne'],\n",
       "       ['Max', 'Harold', 'Bob'],\n",
       "       ['Wayne', 'Lucy', 'Joey']], dtype='<U8')"
      ]
     },
     "execution_count": 63,
     "metadata": {},
     "output_type": "execute_result"
    }
   ],
   "source": [
    "arr2"
   ]
  },
  {
   "cell_type": "code",
   "execution_count": 64,
   "id": "faf22303",
   "metadata": {},
   "outputs": [
    {
     "name": "stdout",
     "output_type": "stream",
     "text": [
      "['Joe' 'Margaret' 'Max' 'Harold' 'Bob' 'Lucy' 'Joey']\n"
     ]
    }
   ],
   "source": [
    "print(arr2[arr2 != 'Wayne'])"
   ]
  },
  {
   "cell_type": "code",
   "execution_count": 65,
   "id": "4b0ac4d6",
   "metadata": {},
   "outputs": [
    {
     "data": {
      "text/plain": [
       "array([['Joe', 'Margaret', 'Wayne'],\n",
       "       ['Max', 'Harold', 'Bob'],\n",
       "       ['Wayne', 'Lucy', 'Joey']], dtype='<U8')"
      ]
     },
     "execution_count": 65,
     "metadata": {},
     "output_type": "execute_result"
    }
   ],
   "source": [
    "arr2"
   ]
  },
  {
   "cell_type": "code",
   "execution_count": 66,
   "id": "ab47f712",
   "metadata": {},
   "outputs": [
    {
     "name": "stdout",
     "output_type": "stream",
     "text": [
      "[[ True  True False]\n",
      " [ True  True  True]\n",
      " [False  True  True]]\n"
     ]
    }
   ],
   "source": [
    "print(arr2 != 'Wayne')"
   ]
  },
  {
   "cell_type": "code",
   "execution_count": 67,
   "id": "d88797e9",
   "metadata": {},
   "outputs": [],
   "source": [
    "idx0 = np.array([[0, 0],\n",
    "                [2, -2]])"
   ]
  },
  {
   "cell_type": "code",
   "execution_count": 68,
   "id": "0d22c80d",
   "metadata": {},
   "outputs": [],
   "source": [
    "idx1 = np.array([[0, 2],\n",
    "                [0, 2]])"
   ]
  },
  {
   "cell_type": "code",
   "execution_count": 69,
   "id": "e7f9c56e",
   "metadata": {},
   "outputs": [
    {
     "data": {
      "text/plain": [
       "array([[ 0,  0],\n",
       "       [ 2, -2]])"
      ]
     },
     "execution_count": 69,
     "metadata": {},
     "output_type": "execute_result"
    }
   ],
   "source": [
    "idx0"
   ]
  },
  {
   "cell_type": "code",
   "execution_count": 70,
   "id": "43f7702a",
   "metadata": {},
   "outputs": [
    {
     "data": {
      "text/plain": [
       "array([[0, 2],\n",
       "       [0, 2]])"
      ]
     },
     "execution_count": 70,
     "metadata": {},
     "output_type": "execute_result"
    }
   ],
   "source": [
    "idx1"
   ]
  },
  {
   "cell_type": "code",
   "execution_count": 71,
   "id": "66d1c9da",
   "metadata": {},
   "outputs": [
    {
     "data": {
      "text/plain": [
       "array([[['Joe', 'Bob', 'Sarah'],\n",
       "        ['Margaret', 'Rachel', 'Jim'],\n",
       "        ['Wayne', 'Joey', 'Liam']],\n",
       "\n",
       "       [['Max', 'Maxine', 'Richard'],\n",
       "        ['Harold', 'Curtis', 'Simon'],\n",
       "        ['Bob', 'Liam', 'Simon']],\n",
       "\n",
       "       [['Wayne', 'Sarah', 'Lucy'],\n",
       "        ['Lucy', 'Kurtis', 'Yu'],\n",
       "        ['Joey', 'Lex', 'Alex']]], dtype='<U8')"
      ]
     },
     "execution_count": 71,
     "metadata": {},
     "output_type": "execute_result"
    }
   ],
   "source": [
    "arr1"
   ]
  },
  {
   "cell_type": "code",
   "execution_count": 72,
   "id": "2e648349",
   "metadata": {},
   "outputs": [
    {
     "data": {
      "text/plain": [
       "array(['Joe', 'Bob', 'Sarah', 'Margaret', 'Rachel', 'Jim', 'Wayne',\n",
       "       'Joey', 'Liam', 'Max', 'Maxine', 'Richard', 'Harold', 'Simon',\n",
       "       'Bob', 'Liam', 'Simon', 'Wayne', 'Sarah', 'Lucy', 'Lucy', 'Kurtis',\n",
       "       'Yu', 'Joey', 'Lex', 'Alex'], dtype='<U8')"
      ]
     },
     "execution_count": 72,
     "metadata": {},
     "output_type": "execute_result"
    }
   ],
   "source": [
    "arr1[arr1 != 'Curtis']"
   ]
  },
  {
   "cell_type": "code",
   "execution_count": 73,
   "id": "872ad9fc",
   "metadata": {},
   "outputs": [
    {
     "name": "stdout",
     "output_type": "stream",
     "text": [
      "[[[ True  True  True]\n",
      "  [ True  True  True]\n",
      "  [ True  True  True]]\n",
      "\n",
      " [[ True  True  True]\n",
      "  [ True False  True]\n",
      "  [ True  True  True]]\n",
      "\n",
      " [[ True  True  True]\n",
      "  [ True  True  True]\n",
      "  [ True  True  True]]]\n"
     ]
    }
   ],
   "source": [
    "print(arr1 != 'Curtis')"
   ]
  },
  {
   "cell_type": "code",
   "execution_count": 74,
   "id": "93e866c5",
   "metadata": {},
   "outputs": [
    {
     "ename": "NameError",
     "evalue": "name 'coord' is not defined",
     "output_type": "error",
     "traceback": [
      "\u001b[0;31m---------------------------------------------------------------------------\u001b[0m",
      "\u001b[0;31mNameError\u001b[0m                                 Traceback (most recent call last)",
      "\u001b[0;32m/var/folders/nf/wztbvlsd6zdbbhzd4ydxz3580000gn/T/ipykernel_20676/1961436712.py\u001b[0m in \u001b[0;36m<module>\u001b[0;34m\u001b[0m\n\u001b[0;32m----> 1\u001b[0;31m \u001b[0mcoord\u001b[0m\u001b[0;34m\u001b[0m\u001b[0;34m\u001b[0m\u001b[0m\n\u001b[0m",
      "\u001b[0;31mNameError\u001b[0m: name 'coord' is not defined"
     ]
    }
   ],
   "source": [
    "coord"
   ]
  },
  {
   "cell_type": "code",
   "execution_count": null,
   "id": "2307318a",
   "metadata": {},
   "outputs": [],
   "source": [
    "from numpy.random import randn"
   ]
  },
  {
   "cell_type": "code",
   "execution_count": null,
   "id": "f19761f5",
   "metadata": {},
   "outputs": [],
   "source": [
    "import numpy.linalg as ln"
   ]
  },
  {
   "cell_type": "code",
   "execution_count": null,
   "id": "aa2ffe98",
   "metadata": {},
   "outputs": [],
   "source": [
    "ln"
   ]
  },
  {
   "cell_type": "code",
   "execution_count": null,
   "id": "8accccb5",
   "metadata": {},
   "outputs": [],
   "source": [
    "arr1 = np.array(randn(3,3,3) * 10, dtype=np.int64)"
   ]
  },
  {
   "cell_type": "code",
   "execution_count": null,
   "id": "e6dfccc3",
   "metadata": {},
   "outputs": [],
   "source": [
    "arr2 = np.array(randn(3,3,3) * 10, dtype = np.int64)"
   ]
  },
  {
   "cell_type": "code",
   "execution_count": null,
   "id": "50e9293e",
   "metadata": {},
   "outputs": [],
   "source": [
    "arr1\n",
    "arr2"
   ]
  },
  {
   "cell_type": "code",
   "execution_count": null,
   "id": "c9fb23b4",
   "metadata": {},
   "outputs": [],
   "source": [
    "arr1 + 100"
   ]
  },
  {
   "cell_type": "code",
   "execution_count": null,
   "id": "f463ba49",
   "metadata": {},
   "outputs": [],
   "source": [
    "arr1 / 2"
   ]
  },
  {
   "cell_type": "code",
   "execution_count": null,
   "id": "53e8186b",
   "metadata": {},
   "outputs": [],
   "source": [
    "arr2 ** 2"
   ]
  },
  {
   "cell_type": "code",
   "execution_count": null,
   "id": "e8dad094",
   "metadata": {},
   "outputs": [],
   "source": [
    "arr1 "
   ]
  },
  {
   "cell_type": "code",
   "execution_count": null,
   "id": "1bc6e35e",
   "metadata": {},
   "outputs": [],
   "source": [
    "arr2"
   ]
  },
  {
   "cell_type": "code",
   "execution_count": null,
   "id": "c92dae70",
   "metadata": {},
   "outputs": [],
   "source": [
    "arr3 = np.array(randn(4,4) * 10, dtype=np.int8)"
   ]
  },
  {
   "cell_type": "code",
   "execution_count": null,
   "id": "b2f63d9a",
   "metadata": {},
   "outputs": [],
   "source": [
    "arr3"
   ]
  },
  {
   "cell_type": "code",
   "execution_count": null,
   "id": "50ccc963",
   "metadata": {},
   "outputs": [],
   "source": [
    "arr1.tolist()"
   ]
  },
  {
   "cell_type": "code",
   "execution_count": null,
   "id": "3107a860",
   "metadata": {},
   "outputs": [],
   "source": [
    "arr2 = np.empty((4,3), dtype=np.dtype('<U15'))"
   ]
  },
  {
   "cell_type": "code",
   "execution_count": null,
   "id": "08da7838",
   "metadata": {},
   "outputs": [],
   "source": [
    "arr2"
   ]
  },
  {
   "cell_type": "code",
   "execution_count": null,
   "id": "65603eef",
   "metadata": {},
   "outputs": [],
   "source": [
    "arr2.fill('Carlos')"
   ]
  },
  {
   "cell_type": "code",
   "execution_count": null,
   "id": "bc07855b",
   "metadata": {},
   "outputs": [],
   "source": [
    "arr2"
   ]
  },
  {
   "cell_type": "code",
   "execution_count": null,
   "id": "fbd79815",
   "metadata": {},
   "outputs": [],
   "source": [
    "arr1.sum()"
   ]
  },
  {
   "cell_type": "code",
   "execution_count": null,
   "id": "c0290289",
   "metadata": {},
   "outputs": [],
   "source": [
    "arr1.sum(axis = 0)"
   ]
  },
  {
   "cell_type": "code",
   "execution_count": null,
   "id": "57c7d294",
   "metadata": {},
   "outputs": [],
   "source": [
    "arr1"
   ]
  },
  {
   "cell_type": "code",
   "execution_count": null,
   "id": "c5510254",
   "metadata": {},
   "outputs": [],
   "source": [
    "arr1 =np.array(randn(4, 4) * 10, dtype = np.uint8)"
   ]
  },
  {
   "cell_type": "code",
   "execution_count": null,
   "id": "6f510d66",
   "metadata": {},
   "outputs": [],
   "source": [
    "arr1"
   ]
  },
  {
   "cell_type": "code",
   "execution_count": null,
   "id": "695b05e6",
   "metadata": {},
   "outputs": [],
   "source": [
    "arr1 = np.array(randn(4,4), dtype = np.int8)"
   ]
  },
  {
   "cell_type": "code",
   "execution_count": 75,
   "id": "570f91c2",
   "metadata": {},
   "outputs": [
    {
     "data": {
      "text/plain": [
       "array([[['Joe', 'Bob', 'Sarah'],\n",
       "        ['Margaret', 'Rachel', 'Jim'],\n",
       "        ['Wayne', 'Joey', 'Liam']],\n",
       "\n",
       "       [['Max', 'Maxine', 'Richard'],\n",
       "        ['Harold', 'Curtis', 'Simon'],\n",
       "        ['Bob', 'Liam', 'Simon']],\n",
       "\n",
       "       [['Wayne', 'Sarah', 'Lucy'],\n",
       "        ['Lucy', 'Kurtis', 'Yu'],\n",
       "        ['Joey', 'Lex', 'Alex']]], dtype='<U8')"
      ]
     },
     "execution_count": 75,
     "metadata": {},
     "output_type": "execute_result"
    }
   ],
   "source": [
    "arr1"
   ]
  },
  {
   "cell_type": "code",
   "execution_count": 76,
   "id": "63317efb",
   "metadata": {},
   "outputs": [
    {
     "data": {
      "text/plain": [
       "<module 'pandas' from '/Users/xinliao/opt/anaconda3/lib/python3.9/site-packages/pandas/__init__.py'>"
      ]
     },
     "execution_count": 76,
     "metadata": {},
     "output_type": "execute_result"
    }
   ],
   "source": [
    "pd"
   ]
  },
  {
   "cell_type": "code",
   "execution_count": null,
   "id": "bbbd4624",
   "metadata": {},
   "outputs": [],
   "source": []
  }
 ],
 "metadata": {
  "kernelspec": {
   "display_name": "Python 3 (ipykernel)",
   "language": "python",
   "name": "python3"
  },
  "language_info": {
   "codemirror_mode": {
    "name": "ipython",
    "version": 3
   },
   "file_extension": ".py",
   "mimetype": "text/x-python",
   "name": "python",
   "nbconvert_exporter": "python",
   "pygments_lexer": "ipython3",
   "version": "3.9.7"
  }
 },
 "nbformat": 4,
 "nbformat_minor": 5
}
