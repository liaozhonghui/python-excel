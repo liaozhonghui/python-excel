{
 "cells": [
  {
   "cell_type": "code",
   "execution_count": null,
   "id": "3b528345",
   "metadata": {},
   "outputs": [],
   "source": [
    "# 条件：\n",
    "# 事务存储数据\n",
    "#\n",
    "\n",
    "# 数据源处理：\n",
    "# 1, 数据读取\n",
    "# 2. 数据的基本清洗\n",
    "# 3. 事务存储数据\n",
    "\n",
    "# 计算逻辑\n",
    "# :对于中间计算逻辑进行整合处理，生成中间表\n",
    "\n",
    "\n",
    "# 中间数据表处理\n",
    "# 明确有哪些中间数据表，对应的存储方式 \n",
    "\n",
    "# 数据结果的整合存储逻辑"
   ]
  }
 ],
 "metadata": {
  "kernelspec": {
   "display_name": "Python 3 (ipykernel)",
   "language": "python",
   "name": "python3"
  },
  "language_info": {
   "codemirror_mode": {
    "name": "ipython",
    "version": 3
   },
   "file_extension": ".py",
   "mimetype": "text/x-python",
   "name": "python",
   "nbconvert_exporter": "python",
   "pygments_lexer": "ipython3",
   "version": "3.9.7"
  }
 },
 "nbformat": 4,
 "nbformat_minor": 5
}
