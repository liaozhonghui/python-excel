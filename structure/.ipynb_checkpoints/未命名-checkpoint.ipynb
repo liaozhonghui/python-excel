{
 "cells": [
  {
   "cell_type": "code",
   "execution_count": 4,
   "id": "5470bd82",
   "metadata": {},
   "outputs": [],
   "source": [
    "from pythonds.basic  import Stack"
   ]
  },
  {
   "cell_type": "code",
   "execution_count": null,
   "id": "e8955c6a",
   "metadata": {},
   "outputs": [],
   "source": [
    "def parChecker(symbolString):\n",
    "    s = Stack()\n",
    "    \n",
    "    balanced = True\n",
    "    index = 0\n",
    "    while index < len(symbolString) and balanced:\n",
    "        symbol = symbolString[index]\n",
    "        if symbol in \"([{\":\n",
    "            s.push(symbol)\n",
    "        else:\n",
    "            if s.isEmpty():\n",
    "                balanced = False\n",
    "            else: \n",
    "                top = s.pop()\n",
    "                if not matches(top, symbol):\n",
    "                    balanced = False\n",
    "            index = index + 1\n",
    "        if balanced and s.isEmpty():\n",
    "            return True\n",
    "        else:\n",
    "            return False\n",
    "        \n",
    "def matches(open, close):\n",
    "    opens = \"([{\"\n",
    "    closers = \")]}\"\n",
    "    \n",
    "    return opens.index(open) == closers.index(close)\n",
    "            \n",
    "            "
   ]
  }
 ],
 "metadata": {
  "kernelspec": {
   "display_name": "Python 3 (ipykernel)",
   "language": "python",
   "name": "python3"
  },
  "language_info": {
   "codemirror_mode": {
    "name": "ipython",
    "version": 3
   },
   "file_extension": ".py",
   "mimetype": "text/x-python",
   "name": "python",
   "nbconvert_exporter": "python",
   "pygments_lexer": "ipython3",
   "version": "3.9.7"
  }
 },
 "nbformat": 4,
 "nbformat_minor": 5
}
