{
 "cells": [
  {
   "cell_type": "code",
   "execution_count": 4,
   "id": "6599396e",
   "metadata": {},
   "outputs": [],
   "source": [
    "from pythonds.basic  import Stack"
   ]
  },
  {
   "cell_type": "code",
   "execution_count": 11,
   "id": "ad1e3b91",
   "metadata": {},
   "outputs": [],
   "source": [
    "def parChecker(symbolString):\n",
    "    s = Stack()\n",
    "    \n",
    "    balanced = True\n",
    "    index = 0\n",
    "    while index < len(symbolString) and balanced:\n",
    "        symbol = symbolString[index]\n",
    "        if symbol in \"([{\":\n",
    "            s.push(symbol)\n",
    "        else:\n",
    "            if s.isEmpty():\n",
    "                balanced = False\n",
    "            else: \n",
    "                top = s.pop()\n",
    "                if not matches(top, symbol):\n",
    "                    balanced = False\n",
    "            index = index + 1\n",
    "        if balanced and s.isEmpty():\n",
    "            return True\n",
    "        else:\n",
    "            return False\n",
    "        \n",
    "def matches(open, close):\n",
    "    opens = \"([{\"\n",
    "    closers = \")]}\"\n",
    "    \n",
    "    return opens.index(open) == closers.index(close)\n",
    "            \n",
    "            "
   ]
  },
  {
   "cell_type": "code",
   "execution_count": 12,
   "id": "fae4be96",
   "metadata": {},
   "outputs": [],
   "source": [
    "symbolStr = '{{([][])}()}'"
   ]
  },
  {
   "cell_type": "code",
   "execution_count": 13,
   "id": "4426b0b1",
   "metadata": {},
   "outputs": [
    {
     "data": {
      "text/plain": [
       "False"
      ]
     },
     "execution_count": 13,
     "metadata": {},
     "output_type": "execute_result"
    }
   ],
   "source": [
    "parChecker(symbolStr)"
   ]
  },
  {
   "cell_type": "code",
   "execution_count": 14,
   "id": "484f7933",
   "metadata": {},
   "outputs": [],
   "source": [
    "opens = \"([{\""
   ]
  },
  {
   "cell_type": "code",
   "execution_count": 15,
   "id": "cbeb6bfb",
   "metadata": {},
   "outputs": [
    {
     "data": {
      "text/plain": [
       "0"
      ]
     },
     "execution_count": 15,
     "metadata": {},
     "output_type": "execute_result"
    }
   ],
   "source": [
    "opens.index('(')"
   ]
  },
  {
   "cell_type": "code",
   "execution_count": 16,
   "id": "916b04fe",
   "metadata": {},
   "outputs": [],
   "source": [
    " closers = \")]}\""
   ]
  },
  {
   "cell_type": "code",
   "execution_count": 17,
   "id": "e8f6aaf8",
   "metadata": {},
   "outputs": [
    {
     "data": {
      "text/plain": [
       "0"
      ]
     },
     "execution_count": 17,
     "metadata": {},
     "output_type": "execute_result"
    }
   ],
   "source": [
    "closers.index(')')"
   ]
  },
  {
   "cell_type": "code",
   "execution_count": null,
   "id": "878ad98d",
   "metadata": {},
   "outputs": [],
   "source": []
  }
 ],
 "metadata": {
  "kernelspec": {
   "display_name": "Python 3 (ipykernel)",
   "language": "python",
   "name": "python3"
  },
  "language_info": {
   "codemirror_mode": {
    "name": "ipython",
    "version": 3
   },
   "file_extension": ".py",
   "mimetype": "text/x-python",
   "name": "python",
   "nbconvert_exporter": "python",
   "pygments_lexer": "ipython3",
   "version": "3.9.7"
  }
 },
 "nbformat": 4,
 "nbformat_minor": 5
}
