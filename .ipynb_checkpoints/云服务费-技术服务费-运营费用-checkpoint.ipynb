{
 "cells": [
  {
   "cell_type": "code",
   "execution_count": null,
   "id": "a99795f5",
   "metadata": {},
   "outputs": [],
   "source": [
    "import pandas as pd\n",
    "import numpy as np"
   ]
  },
  {
   "cell_type": "code",
   "execution_count": null,
   "id": "3e6ddb65",
   "metadata": {},
   "outputs": [],
   "source": [
    "excel_name = '成本核算数据源配置表.xlsx'\n",
    "sheet_name = {\n",
    "    'source': {\n",
    "        'revenue': '收入',\n",
    "        'spend':'投放费',\n",
    "        'timesheet':'项目工时',\n",
    "        'employee':'人员工资奖金五险一金',\n",
    "        'cloud':'云服务费',\n",
    "        'technical':'技术服务费',\n",
    "        'operation':'运营费用',\n",
    "        'bjdepartment':'北京天天部门费用',\n",
    "        'cddepartment':'成都天天部门费用',\n",
    "    },\n",
    "    'config': {\n",
    "        'employee':'人员费用配置表',\n",
    "        'project':'项目费用配置表'\n",
    "    }\n",
    "}"
   ]
  },
  {
   "cell_type": "code",
   "execution_count": null,
   "id": "9cc3ceff",
   "metadata": {},
   "outputs": [],
   "source": [
    "revenue = pd.read_excel(excel_name, sheet_name=sheet_name['source']['revenue'])\n",
    "revenue"
   ]
  },
  {
   "cell_type": "code",
   "execution_count": null,
   "id": "fd4f58d7",
   "metadata": {},
   "outputs": [],
   "source": [
    "revenue = revenue.fillna(method='ffill')\n",
    "revenue_adv = revenue[revenue['收入类型'] == '广告']\n",
    "revenue_inapp = revenue[revenue['收入类型'] == '内购']\n",
    "revenue = revenue[revenue['收入类型'] == '合计']\n",
    "revenue_adv.set_index('项目收入占比',inplace=True)\n",
    "revenue_inapp.set_index('项目收入占比',inplace=True)\n",
    "revenue.set_index('项目收入占比',inplace=True)\n",
    "revenue.drop('收入类型', 1, inplace=True)\n",
    "revenue"
   ]
  },
  {
   "cell_type": "code",
   "execution_count": null,
   "id": "f1292be8",
   "metadata": {},
   "outputs": [],
   "source": [
    "revenue_percent = revenue.loc['占比'][0:]\n",
    "revenue_percent_df = pd.DataFrame(revenue_percent)\n",
    "revenue_percent_df"
   ]
  },
  {
   "cell_type": "code",
   "execution_count": null,
   "id": "1831efe3",
   "metadata": {},
   "outputs": [],
   "source": [
    "cloud = pd.read_excel(excel_name, sheet_name=sheet_name['source']['cloud'])\n",
    "cloud.set_index('费用项',inplace=True)\n",
    "cloud"
   ]
  },
  {
   "cell_type": "code",
   "execution_count": null,
   "id": "fc9ba4d7",
   "metadata": {},
   "outputs": [],
   "source": [
    "project_config = pd.read_excel(excel_name, sheet_name=sheet_name['config']['project'])\n",
    "project_config.columns = list(project_config.columns.values[0:4]) + list(project_config.loc[0][4:].values)\n",
    "project_config = project_config.drop(0).fillna(0)\n",
    "project_config.set_index('项目', inplace= True)\n",
    "project_config\n"
   ]
  },
  {
   "cell_type": "code",
   "execution_count": null,
   "id": "75d765a1",
   "metadata": {},
   "outputs": [],
   "source": [
    "project_config_fee_percent = pd.merge(project_config,revenue_percent_df, left_index=True, right_index=True, how='left')\n",
    "project_config_fee_percent\n"
   ]
  },
  {
   "cell_type": "code",
   "execution_count": null,
   "id": "a8e7909a",
   "metadata": {},
   "outputs": [],
   "source": [
    "for col in project_config_fee_percent.columns.values[3:-1]:\n",
    "    fee_percent = project_config_fee_percent[col] * project_config_fee_percent['占比']\n",
    "    project_config_fee_percent[col] = fee_percent / fee_percent.sum() * 100\n",
    "\n",
    "project_config_fee_percent\n"
   ]
  },
  {
   "cell_type": "code",
   "execution_count": null,
   "id": "072b47ef",
   "metadata": {},
   "outputs": [],
   "source": [
    "project_fee = project_config_fee_percent.copy()"
   ]
  },
  {
   "cell_type": "code",
   "execution_count": null,
   "id": "b686271e",
   "metadata": {},
   "outputs": [],
   "source": [
    "technical = pd.read_excel(excel_name, sheet_name=sheet_name['source']['technical'])\n",
    "technical.set_index('费用项',inplace=True)\n",
    "technical_nomatched = technical.loc['不匹配项目技术服务费']\n",
    "technical.drop('不匹配项目技术服务费', inplace=True)"
   ]
  },
  {
   "cell_type": "code",
   "execution_count": null,
   "id": "1bcab3bf",
   "metadata": {},
   "outputs": [],
   "source": [
    "operation = pd.read_excel(excel_name, sheet_name=sheet_name['source']['operation'])\n",
    "operation.set_index('费用项',inplace=True)\n",
    "operation_nomatched_bj = operation.loc['北京天天不匹配项目运营费']\n",
    "operation.drop('北京天天不匹配项目运营费', inplace=True)\n",
    "operation_nomatched_cd = operation.loc['成都天天不匹配项目运营费']\n",
    "operation.drop('成都天天不匹配项目运营费', inplace=True)"
   ]
  },
  {
   "cell_type": "code",
   "execution_count": null,
   "id": "fe653a2c",
   "metadata": {},
   "outputs": [],
   "source": [
    "project_fee['技术服务费匹配项目费用'] = 0\n",
    "project_fee['运营费用匹配项目费用'] = 0\n",
    "project_fee"
   ]
  },
  {
   "cell_type": "code",
   "execution_count": null,
   "id": "44686cf5",
   "metadata": {
    "scrolled": true
   },
   "outputs": [],
   "source": [
    "for p in technical.index:\n",
    "    if p in project_fee.index:\n",
    "        project_fee['技术服务费匹配项目费用'][p] = technical.loc[p]['费用']\n",
    "\n",
    "for p in operation.index:\n",
    "    if p in project_fee.index:\n",
    "        project_fee['运营费用匹配项目费用'][p] = operation.loc[p]['费用']\n",
    "        \n",
    "project_fee"
   ]
  },
  {
   "cell_type": "code",
   "execution_count": null,
   "id": "80169767",
   "metadata": {
    "scrolled": false
   },
   "outputs": [],
   "source": [
    "for col in project_config_fee_percent.columns.values[3:-1]: \n",
    "    if col in cloud.index:\n",
    "        project_fee[col] = project_config_fee_percent[col] * cloud.loc[col, '费用'] / 100\n",
    "    elif col == '不匹配项目技术服务费':\n",
    "        project_fee[col] = project_config_fee_percent[col] * technical_nomatched['费用'] / 100 \n",
    "    elif col == '北京天天不匹配项目运营费':\n",
    "        project_fee[col] = project_config_fee_percent[col] * operation_nomatched_bj['费用'] / 100\n",
    "    elif col == '成都天天不匹配项目运营费':\n",
    "        project_fee[col] = project_config_fee_percent[col] * operation_nomatched_cd['费用'] / 100\n",
    "    \n",
    "project_fee"
   ]
  },
  {
   "cell_type": "code",
   "execution_count": null,
   "id": "c6b62bfb",
   "metadata": {},
   "outputs": [],
   "source": []
  }
 ],
 "metadata": {
  "celltoolbar": "原始单元格格式",
  "kernelspec": {
   "display_name": "Python 3 (ipykernel)",
   "language": "python",
   "name": "python3"
  },
  "language_info": {
   "codemirror_mode": {
    "name": "ipython",
    "version": 3
   },
   "file_extension": ".py",
   "mimetype": "text/x-python",
   "name": "python",
   "nbconvert_exporter": "python",
   "pygments_lexer": "ipython3",
   "version": "3.9.7"
  }
 },
 "nbformat": 4,
 "nbformat_minor": 5
}
