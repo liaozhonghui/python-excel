{
 "cells": [
  {
   "cell_type": "code",
   "execution_count": 1,
   "id": "6425d525",
   "metadata": {},
   "outputs": [],
   "source": [
    "import numpy as np\n",
    "import pandas as pd"
   ]
  },
  {
   "cell_type": "code",
   "execution_count": 2,
   "id": "ef7d4eb3",
   "metadata": {},
   "outputs": [],
   "source": [
    "def readTimesheet(sheet_name):\n",
    "    人员工时 = pd.read_excel('项目工时表.xlsx', sheet_name=sheet_name)\n",
    "    cols = list(filter(lambda x: (x.find('Unnamed:') == -1) or x == '合计', 人员工时.columns))\n",
    "    人员工时 = 人员工时.loc[:, cols]\n",
    "    人员工时.drop([0,1], inplace=True)\n",
    "    \n",
    "    # 人员项目工时\n",
    "    timesheet = 人员工时\n",
    "    month= 202203\n",
    "    col = 'month,employee,main,department,project_group,projects,percents'.split(',')\n",
    "    row = timesheet.index.values\n",
    "    py_source_timesheet = pd.DataFrame(columns = col, index = row)\n",
    "    for i in row:\n",
    "        line = pd.Series([\n",
    "            month,\n",
    "            timesheet['工号'][i],\n",
    "            timesheet['主体'][i],\n",
    "            timesheet['部门'][i],\n",
    "            '',\n",
    "            list(timesheet.columns.values[6:]),\n",
    "            list(np.array( list(timesheet.loc[i].values[6:]), dtype=np.float64))\n",
    "        ],index = col)\n",
    "        py_source_timesheet.loc[i] = line\n",
    "    \n",
    "    return py_source_timesheet;"
   ]
  },
  {
   "cell_type": "code",
   "execution_count": 3,
   "id": "a78ca8d2",
   "metadata": {},
   "outputs": [],
   "source": [
    "py_source_timesheet = readTimesheet('工时统计 (BT)')\n",
    "with pd.ExcelWriter(\"转化表.xlsx\", engine=\"openpyxl\", mode=\"a\", if_sheet_exists=\"replace\") as writer:\n",
    "    py_source_timesheet.to_excel(writer, '工时统计 (BT)', index=False)\n",
    "    \n",
    "with open('工时统计-北京.json', 'w', encoding='utf-8') as file:\n",
    "    py_source_timesheet.to_json(file, orient='records', force_ascii=False)"
   ]
  },
  {
   "cell_type": "code",
   "execution_count": 4,
   "id": "1f814525",
   "metadata": {},
   "outputs": [],
   "source": [
    "py_source_timesheet = readTimesheet('工时统计 (CT)')\n",
    "with pd.ExcelWriter(\"转化表.xlsx\", engine=\"openpyxl\", mode=\"a\", if_sheet_exists=\"replace\") as writer:\n",
    "    py_source_timesheet.to_excel(writer, '工时统计 (CT)', index=False)\n",
    "    \n",
    "with open('工时统计-成都.json', 'w', encoding='utf-8') as file:\n",
    "    py_source_timesheet.to_json(file, orient='records', force_ascii=False)"
   ]
  },
  {
   "cell_type": "code",
   "execution_count": 5,
   "id": "052ab226",
   "metadata": {},
   "outputs": [
    {
     "name": "stdout",
     "output_type": "stream",
     "text": [
      "导入人员项目工时表成功\n"
     ]
    }
   ],
   "source": [
    "print('导入人员项目工时表成功')"
   ]
  },
  {
   "cell_type": "code",
   "execution_count": null,
   "id": "1017481a",
   "metadata": {},
   "outputs": [],
   "source": []
  }
 ],
 "metadata": {
  "kernelspec": {
   "display_name": "Python 3 (ipykernel)",
   "language": "python",
   "name": "python3"
  },
  "language_info": {
   "codemirror_mode": {
    "name": "ipython",
    "version": 3
   },
   "file_extension": ".py",
   "mimetype": "text/x-python",
   "name": "python",
   "nbconvert_exporter": "python",
   "pygments_lexer": "ipython3",
   "version": "3.9.7"
  }
 },
 "nbformat": 4,
 "nbformat_minor": 5
}
