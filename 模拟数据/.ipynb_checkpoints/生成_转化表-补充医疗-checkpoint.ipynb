{
 "cells": [
  {
   "cell_type": "code",
   "execution_count": 1,
   "id": "939484d3",
   "metadata": {},
   "outputs": [],
   "source": [
    "import numpy as np\n",
    "import pandas as pd\n",
    "import os\n",
    "import openpyxl"
   ]
  },
  {
   "cell_type": "code",
   "execution_count": 2,
   "id": "7be61395",
   "metadata": {},
   "outputs": [],
   "source": [
    "def readMedi(sheet_name):\n",
    "    补充医疗  = pd.read_excel('导入表-工资+五险一金+补充医疗.xlsx', sheet_name=sheet_name, skiprows=2)\n",
    "    补充医疗.dropna(how='all', axis=1, inplace=True)\n",
    "    补充医疗.fillna('', inplace=True)\n",
    "    补充医疗.drop(补充医疗.shape[0] - 1, inplace=True)\n",
    "    cols = 补充医疗.columns.values\n",
    "    cols[len(cols)- 1] = '补充医疗'\n",
    "    补充医疗.columns = cols\n",
    "    \n",
    "    employee = 补充医疗\n",
    "    month= 202203\n",
    "    col = 'month,employee,main,department,project_group,type,fee_items,fees'.split(',')\n",
    "    row = employee.index.values\n",
    "    py_source_employee = pd.DataFrame(columns = col, index = row)\n",
    "    for i in row:\n",
    "        line = pd.Series([\n",
    "            month,\n",
    "            employee['个人编号'][i],\n",
    "            employee['主体标识'][i],\n",
    "            employee['第一组织单元'][i],\n",
    "            '',\n",
    "            3,\n",
    "            ['补充医疗'],\n",
    "            list(补充医疗.loc[i, ['补充医疗']])\n",
    "        ],index = col)\n",
    "        py_source_employee.loc[i] = line\n",
    "    \n",
    "    return py_source_employee"
   ]
  },
  {
   "cell_type": "code",
   "execution_count": 3,
   "id": "28431617",
   "metadata": {},
   "outputs": [],
   "source": [
    "py_source_employee = readMedi('北京补充医疗')\n",
    "with pd.ExcelWriter(\"转化表.xlsx\", engine=\"openpyxl\", mode=\"a\", if_sheet_exists=\"replace\") as writer:\n",
    "    py_source_employee.to_excel(writer, '北京补充医疗', index=False)\n",
    "    \n",
    "with open('补充医疗-北京.json', 'w', encoding='utf-8') as file:\n",
    "    py_source_employee.to_json(file, orient='records', force_ascii=False)"
   ]
  },
  {
   "cell_type": "code",
   "execution_count": 4,
   "id": "81b5dbed",
   "metadata": {},
   "outputs": [],
   "source": [
    "py_source_employee = readMedi('成都补充医疗')\n",
    "with pd.ExcelWriter(\"转化表.xlsx\", engine=\"openpyxl\", mode=\"a\", if_sheet_exists=\"replace\") as writer:\n",
    "    py_source_employee.to_excel(writer, '成都补充医疗', index=False)\n",
    "    \n",
    "with open('补充医疗-成都.json', 'w', encoding='utf-8') as file:\n",
    "    py_source_employee.to_json(file, orient='records', force_ascii=False)"
   ]
  },
  {
   "cell_type": "code",
   "execution_count": 5,
   "id": "01f42db2",
   "metadata": {},
   "outputs": [
    {
     "name": "stdout",
     "output_type": "stream",
     "text": [
      "人员补充医疗部分转化成功\n"
     ]
    }
   ],
   "source": [
    "print('人员补充医疗部分转化成功')"
   ]
  }
 ],
 "metadata": {
  "kernelspec": {
   "display_name": "Python 3 (ipykernel)",
   "language": "python",
   "name": "python3"
  },
  "language_info": {
   "codemirror_mode": {
    "name": "ipython",
    "version": 3
   },
   "file_extension": ".py",
   "mimetype": "text/x-python",
   "name": "python",
   "nbconvert_exporter": "python",
   "pygments_lexer": "ipython3",
   "version": "3.9.7"
  }
 },
 "nbformat": 4,
 "nbformat_minor": 5
}
