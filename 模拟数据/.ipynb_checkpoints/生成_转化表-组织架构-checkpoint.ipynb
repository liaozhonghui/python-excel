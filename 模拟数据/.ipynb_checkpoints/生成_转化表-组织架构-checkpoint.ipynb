{
 "cells": [
  {
   "cell_type": "code",
   "execution_count": 1,
   "id": "0ba89116",
   "metadata": {},
   "outputs": [],
   "source": [
    "import numpy as np\n",
    "import pandas as pd"
   ]
  },
  {
   "cell_type": "code",
   "execution_count": 2,
   "id": "ef9557e0",
   "metadata": {},
   "outputs": [],
   "source": [
    "架构 =  pd.read_excel('组织架构导入表.xlsx', sheet_name='Sheet1')"
   ]
  },
  {
   "cell_type": "code",
   "execution_count": 6,
   "id": "58958c0e",
   "metadata": {},
   "outputs": [],
   "source": [
    "架构.fillna('', inplace=True)\n",
    "架构.columns = ['main', 'position', 'name', 'type']"
   ]
  },
  {
   "cell_type": "code",
   "execution_count": 8,
   "id": "f9a8ef3b",
   "metadata": {},
   "outputs": [],
   "source": [
    "with open('架构.json', 'w', encoding='utf-8') as file:\n",
    "    架构.to_json(file, orient='records', force_ascii=False)"
   ]
  },
  {
   "cell_type": "code",
   "execution_count": 11,
   "id": "6befda16",
   "metadata": {},
   "outputs": [],
   "source": [
    "架构"
   ]
  },
  {
   "cell_type": "code",
   "execution_count": null,
   "id": "86855ea5",
   "metadata": {},
   "outputs": [],
   "source": []
  }
 ],
 "metadata": {
  "kernelspec": {
   "display_name": "Python 3 (ipykernel)",
   "language": "python",
   "name": "python3"
  },
  "language_info": {
   "codemirror_mode": {
    "name": "ipython",
    "version": 3
   },
   "file_extension": ".py",
   "mimetype": "text/x-python",
   "name": "python",
   "nbconvert_exporter": "python",
   "pygments_lexer": "ipython3",
   "version": "3.9.7"
  }
 },
 "nbformat": 4,
 "nbformat_minor": 5
}
