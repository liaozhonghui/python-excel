{
 "cells": [
  {
   "cell_type": "code",
   "execution_count": 1,
   "id": "43d3d002",
   "metadata": {},
   "outputs": [],
   "source": [
    "import numpy as np\n",
    "import pandas as pd "
   ]
  },
  {
   "cell_type": "code",
   "execution_count": 2,
   "id": "21f75bf5",
   "metadata": {},
   "outputs": [],
   "source": [
    "def readFiveAndOne(sheet_name):\n",
    "    五险一金 = pd.read_excel('导入表-工资+五险一金+补充医疗.xlsx', sheet_name=sheet_name, skiprows=2)\n",
    "    \n",
    "    header = pd.Series([np.nan if 'Unnamed:' in x else x for x in 五险一金.columns.values]).ffill().values.flatten()\n",
    "    cols = list(五险一金.columns[0:7]) + list(五险一金.loc[0])[7:]\n",
    "    for i, col in enumerate(header):\n",
    "        if col in ['养老保险', '失业保险', '工伤保险', '医疗保险', '五险合计', '公积金', '五险一金合计']:\n",
    "            cols[i] = col + '_' + cols[i]\n",
    "\n",
    "    cols[len(cols) - 1] = '五险一金'\n",
    "    五险一金.columns =  cols\n",
    "    五险一金.drop([0], inplace=True)\n",
    "    五险一金.iloc[:, range(7)] = 五险一金.iloc[:, range(7)].fillna('')\n",
    "    五险一金.drop(五险一金.shape[0], inplace=True)\n",
    "    \n",
    "    employee = 五险一金\n",
    "    month= 202203\n",
    "    col = 'month,employee,main,department,project_group,type,fee_items,fees'.split(',')\n",
    "    row = employee.index.values\n",
    "    py_source_employee = pd.DataFrame(columns = col, index = row)\n",
    "    for i in row:\n",
    "        line = pd.Series([\n",
    "            month,\n",
    "            employee['人员编号'][i],\n",
    "            employee['主体标识'][i],\n",
    "            employee['第一组织单元'][i],\n",
    "            '',\n",
    "            2,\n",
    "            list(employee.columns.values[7:]),\n",
    "            list(np.array( list(employee.loc[i].values[7:]), dtype=np.float64))\n",
    "        ],index = col)\n",
    "        py_source_employee.loc[i] = line\n",
    "        \n",
    "    return py_source_employee"
   ]
  },
  {
   "cell_type": "code",
   "execution_count": 3,
   "id": "d5a3a6ff",
   "metadata": {},
   "outputs": [],
   "source": [
    "py_source_employee = readFiveAndOne('北京五险一金')\n",
    "with pd.ExcelWriter(\"转化表.xlsx\", engine=\"openpyxl\", mode=\"a\", if_sheet_exists=\"replace\") as writer:\n",
    "    py_source_employee.to_excel(writer, '北京五险一金', index=False)\n",
    "    \n",
    "with open('五险一金-北京.json', 'w', encoding='utf-8') as file:\n",
    "    py_source_employee.to_json(file, orient='records', force_ascii=False)"
   ]
  },
  {
   "cell_type": "code",
   "execution_count": 4,
   "id": "daec2019",
   "metadata": {},
   "outputs": [],
   "source": [
    "py_source_employee = readFiveAndOne('成都五险一金')\n",
    "with pd.ExcelWriter(\"转化表.xlsx\", engine=\"openpyxl\", mode=\"a\", if_sheet_exists=\"replace\") as writer:\n",
    "    py_source_employee.to_excel(writer, '成都五险一金', index=False)\n",
    "    \n",
    "with open('五险一金-成都.json', 'w', encoding='utf-8') as file:\n",
    "    py_source_employee.to_json(file, orient='records', force_ascii=False)"
   ]
  },
  {
   "cell_type": "code",
   "execution_count": 5,
   "id": "8fbef17b",
   "metadata": {},
   "outputs": [
    {
     "name": "stdout",
     "output_type": "stream",
     "text": [
      "人员五险一金部分转化生成成功\n"
     ]
    }
   ],
   "source": [
    "print('人员五险一金部分转化生成成功')"
   ]
  }
 ],
 "metadata": {
  "kernelspec": {
   "display_name": "Python 3 (ipykernel)",
   "language": "python",
   "name": "python3"
  },
  "language_info": {
   "codemirror_mode": {
    "name": "ipython",
    "version": 3
   },
   "file_extension": ".py",
   "mimetype": "text/x-python",
   "name": "python",
   "nbconvert_exporter": "python",
   "pygments_lexer": "ipython3",
   "version": "3.9.7"
  }
 },
 "nbformat": 4,
 "nbformat_minor": 5
}
