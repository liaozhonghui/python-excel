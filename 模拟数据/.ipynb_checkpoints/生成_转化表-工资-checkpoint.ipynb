{
 "cells": [
  {
   "cell_type": "code",
   "execution_count": 1,
   "id": "8cd08dfa",
   "metadata": {},
   "outputs": [],
   "source": [
    "import numpy as np\n",
    "import pandas as pd\n",
    "import os\n",
    "import openpyxl"
   ]
  },
  {
   "cell_type": "code",
   "execution_count": 2,
   "id": "d0a348c6",
   "metadata": {},
   "outputs": [],
   "source": [
    "def readAndExportWage(sheet_name): \n",
    "    工资 = pd.read_excel('导入表-工资+五险一金+补充医疗.xlsx', sheet_name=sheet_name, skiprows=2, nrows=269)\n",
    "    工资 = 工资.iloc[:, range(34)]\n",
    "    \n",
    "    cols = 工资.columns.values\n",
    "    cols[24] = '养老保险'\n",
    "    cols[25] = '失业保险'\n",
    "    cols[26] = '医疗保险'\n",
    "    cols[27] = '住房公积金'\n",
    "    cols[28] = '补缴社保公积金'\n",
    "    cols[29] = '扣除五险一金 小计'\n",
    "    工资.columns= cols\n",
    "    工资 = 工资.drop(0)\n",
    "    employee = 工资\n",
    "    month= 202203\n",
    "    col = 'month,employee,main,department,project_group,type,fee_items,fees'.split(',')\n",
    "    row = employee.index.values\n",
    "    py_source_employee = pd.DataFrame(columns = col, index = row)\n",
    "    for i in row:\n",
    "        line = pd.Series([\n",
    "            month,\n",
    "            employee['工号'][i],\n",
    "            employee['主体'][i],\n",
    "            employee['一级组织单元'][i],\n",
    "            '',\n",
    "            1,\n",
    "            list(employee.columns.values[6:]),\n",
    "            list(np.array( list(employee.loc[i].values[6:]), dtype=np.float64))\n",
    "        ],index = col)\n",
    "        py_source_employee.loc[i] = line\n",
    "    # with open('工资.json', 'w', encoding='utf-8') as file:\n",
    "    #     py_source_employee.to_json(file, orient='records', force_ascii=False)\n",
    "    return py_source_employee"
   ]
  },
  {
   "cell_type": "code",
   "execution_count": 3,
   "id": "f0fc4d58",
   "metadata": {},
   "outputs": [],
   "source": [
    "py_source_employee = readAndExportWage('北京工资')\n",
    "with pd.ExcelWriter('转化表.xlsx', engine=\"openpyxl\", mode=\"w\") as writer:\n",
    "        py_source_employee.to_excel(writer, '北京工资', index=False)\n",
    "        \n",
    "with open('工资-北京.json', 'w', encoding='utf-8') as file:\n",
    "    py_source_employee.to_json(file, orient='records', force_ascii=False)"
   ]
  },
  {
   "cell_type": "code",
   "execution_count": 4,
   "id": "2aa4d8db",
   "metadata": {},
   "outputs": [],
   "source": [
    "py_source_employee = readAndExportWage('成都工资')\n",
    "with pd.ExcelWriter('转化表.xlsx', engine=\"openpyxl\", mode=\"a\", if_sheet_exists=\"replace\") as writer:\n",
    "        py_source_employee.to_excel(writer, '成都工资', index=False)\n",
    "\n",
    "with open('工资-成都.json', 'w', encoding='utf-8') as file:\n",
    "    py_source_employee.to_json(file, orient='records', force_ascii=False)"
   ]
  },
  {
   "cell_type": "code",
   "execution_count": 5,
   "id": "c5a96354",
   "metadata": {},
   "outputs": [
    {
     "name": "stdout",
     "output_type": "stream",
     "text": [
      "人员工资部分转化表生成成功\n"
     ]
    }
   ],
   "source": [
    "print('人员工资部分转化表生成成功')"
   ]
  }
 ],
 "metadata": {
  "kernelspec": {
   "display_name": "Python 3 (ipykernel)",
   "language": "python",
   "name": "python3"
  },
  "language_info": {
   "codemirror_mode": {
    "name": "ipython",
    "version": 3
   },
   "file_extension": ".py",
   "mimetype": "text/x-python",
   "name": "python",
   "nbconvert_exporter": "python",
   "pygments_lexer": "ipython3",
   "version": "3.9.7"
  }
 },
 "nbformat": 4,
 "nbformat_minor": 5
}
